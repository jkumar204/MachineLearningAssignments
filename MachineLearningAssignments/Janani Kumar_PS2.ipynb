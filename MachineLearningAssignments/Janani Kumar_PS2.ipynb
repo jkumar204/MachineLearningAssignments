{
 "cells": [
  {
   "cell_type": "markdown",
   "metadata": {
    "ein.tags": [
     "worksheet-0"
    ],
    "slideshow": {
     "slide_type": "-"
    }
   },
   "source": [
    "# Problem Set 2, due April 27th at 3:30 pm\n",
    "\n",
    "**Please Note:** This assignment will likely take you a _long_ time, especially if you are new to Python. Start early!"
   ]
  },
  {
   "cell_type": "markdown",
   "metadata": {
    "ein.tags": [
     "worksheet-0"
    ],
    "slideshow": {
     "slide_type": "-"
    }
   },
   "source": [
    "## Introduction to the assignment\n",
    "\n",
    "For this assignment, you will be using data from the [Progresa program](http://en.wikipedia.org/wiki/Oportunidades), a government social assistance program in Mexico. This program, as well as the details of its impact, are described in the paper \"[School subsidies for the poor: evaluating the Mexican Progresa poverty program](http://www.sciencedirect.com/science/article/pii/S0304387803001858)\", by Paul Shultz (available on Canvas). Please familiarize yourself with the PROGRESA program before beginning this problem set, so you have a rough sense of where the data come from and how they were generated. If you just proceed into the problem set without understanding Progresa or the data, it will be very difficult!\n",
    "\n",
    "The goal of this problem set is to implement some of the basic econometric techniques that you are learning in class to measure the impact of Progresa on secondary school enrollment rates. The timeline of the program was:\n",
    "\n",
    " * Baseline survey conducted in 1997\n",
    " * Intervention begins in 1998, \"Wave 1\" of data collected in 1998\n",
    " * \"Wave 2 of data\" collected in 1999\n",
    " * Evaluation ends in 2000, at which point the control villages were treated. \n",
    " \n",
    "When you are ready, download the progresa_sample.csv data from Canvas. The data are actual data collected to evaluate the impact of the Progresa program.  In this file, each row corresponds to an observation taken for a given child for a given year. There are two years of data (1997 and 1998), and just under 40,000 children who are surveyed in each year. For each child-year observation, the following variables are collected:\n",
    "\n",
    "| Variable name | Description|\n",
    "|---------|---------|\n",
    "|year\t  |year in which data is collected\n",
    "|sex\t  |male = 1|\n",
    "|indig\t  |indigenous = 1|\n",
    "|dist_sec |nearest distance to a secondary school|\n",
    "|sc\t      |enrolled in school in year of survey|\n",
    "|grc      |grade enrolled|\n",
    "|fam_n    |family size|\n",
    "|min_dist |\tmin distance to an urban center|\n",
    "|dist_cap |\tmin distance to the capital|\n",
    "|poor     |\tpoor = 'pobre'|\n",
    "|progresa |treatment = 'basal'|\n",
    "|hohedu\t  |years of schooling of head of household|\n",
    "|hohwag\t  |monthly wages of head of household|\n",
    "|welfare_index|\twelfare index used to classify poor|\n",
    "|hohsex\t  |gender of head of household (male=1)|\n",
    "|hohage   |age of head of household|\n",
    "|age      |years old|\n",
    "|folnum\t  |individual id|\n",
    "|village  |\tvillage id|\n",
    "|sc97\t  |schooling in 1997|"
   ]
  },
  {
   "cell_type": "code",
   "execution_count": 201,
   "metadata": {
    "autoscroll": "json-false",
    "collapsed": false,
    "ein.tags": [
     "worksheet-0"
    ],
    "slideshow": {
     "slide_type": "-"
    }
   },
   "outputs": [
    {
     "name": "stdout",
     "output_type": "stream",
     "text": [
      "3.5.2 |Anaconda 4.2.0 (64-bit)| (default, Jul  5 2016, 11:41:13) [MSC v.1900 64 bit (AMD64)]\n"
     ]
    }
   ],
   "source": [
    "import sys; print(sys.version)\n",
    "%matplotlib inline\n",
    "import IPython\n",
    "import numpy as np\n",
    "import pandas as pd\n",
    "import scipy as sp\n",
    "from scipy import stats\n",
    "import matplotlib.pyplot as plt\n",
    "import matplotlib\n",
    "import sklearn as sk\n",
    "import statsmodels.formula.api as sm\n",
    "from sklearn.linear_model import LinearRegression\n",
    "import pylab"
   ]
  },
  {
   "cell_type": "markdown",
   "metadata": {
    "ein.tags": [
     "worksheet-0"
    ],
    "slideshow": {
     "slide_type": "-"
    }
   },
   "source": [
    "---\n",
    "##Part 1: Descriptive analysis\n",
    "\n",
    "### 1.1\tSummary Statistics\n",
    "\n",
    "a) Present number of missing observations for every single variable\n"
   ]
  },
  {
   "cell_type": "code",
   "execution_count": 202,
   "metadata": {
    "autoscroll": "json-false",
    "collapsed": false,
    "ein.tags": [
     "worksheet-0"
    ],
    "slideshow": {
     "slide_type": "-"
    }
   },
   "outputs": [
    {
     "name": "stdout",
     "output_type": "stream",
     "text": [
      "year: 0\n",
      "sex: 24\n",
      "indig: 300\n",
      "dist_sec: 0\n",
      "sc: 8453\n",
      "grc: 6549\n",
      "fam_n: 0\n",
      "min_dist: 0\n",
      "dist_Cap: 0\n",
      "poor: 0\n",
      "progresa: 0\n",
      "hohedu: 0\n",
      "hohwag: 0\n",
      "welfare_index: 210    1\n",
      "dtype: int64\n",
      "hohsex: 20\n",
      "hohage: 10\n",
      "age: 0\n",
      "folnum: 0\n",
      "village: 0\n",
      "sc97: 3872\n"
     ]
    }
   ],
   "source": [
    "progresa_df=pd.read_csv(\"C:/Users/jakum/Documents/Quarter 3/ml/assignments/progresa_sample/progresa_sample.csv\")\n",
    "progresa_df.fillna(0)\n",
    "print(\"year:\",(progresa_df['year'].isnull().sum()))\n",
    "print(\"sex:\",(progresa_df['sex'].isnull().sum()))\n",
    "print(\"indig:\",(progresa_df['indig'].isnull().sum()))\n",
    "print(\"dist_sec:\",(progresa_df['dist_sec'].isnull().sum()))\n",
    "print(\"sc:\",(progresa_df['sc'].isnull().sum()))\n",
    "print(\"grc:\",(progresa_df['grc'].isnull().sum()))\n",
    "print(\"fam_n:\",(progresa_df['fam_n'].isnull().sum()))\n",
    "print(\"min_dist:\",(progresa_df['min_dist'].isnull().sum()))\n",
    "print(\"dist_Cap:\",(progresa_df['dist_cap'].isnull().sum()))\n",
    "print(\"poor:\",(progresa_df['poor'].isnull().sum()))\n",
    "print(\"progresa:\",(progresa_df['progresa'].isnull().sum()))\n",
    "print(\"hohedu:\",(progresa_df['hohedu'].isnull().sum()))\n",
    "print(\"hohwag:\",(progresa_df['hohwag'].isnull().sum()))\n",
    "print(\"welfare_index:\",pd.value_counts(progresa_df['welfare_index'].isnull().sum()))\n",
    "print(\"hohsex:\",(progresa_df['hohsex'].isnull().sum()))\n",
    "print(\"hohage:\",(progresa_df['hohage'].isnull().sum()))\n",
    "print(\"age:\",(progresa_df['age'].isnull().sum()))\n",
    "print(\"folnum:\",(progresa_df['folnum'].isnull().sum()))\n",
    "print(\"village:\",(progresa_df['village'].isnull().sum()))\n",
    "print( \"sc97:\",progresa_df['sc97'].isnull().sum())\n"
   ]
  },
  {
   "cell_type": "raw",
   "metadata": {},
   "source": [
    "      progresa_df.dtype"
   ]
  },
  {
   "cell_type": "markdown",
   "metadata": {
    "ein.tags": [
     "worksheet-0"
    ],
    "slideshow": {
     "slide_type": "-"
    }
   },
   "source": [
    "b) Present summary statistics (mean and standard deviation) for all of the demographic variables in the dataset (i.e., everything except year, folnum, village). Present these in a single table alphabetized by variable name. Do NOT simply expect the grader to scroll through your output!"
   ]
  },
  {
   "cell_type": "code",
   "execution_count": 203,
   "metadata": {
    "autoscroll": "json-false",
    "collapsed": false,
    "ein.tags": [
     "worksheet-0"
    ],
    "slideshow": {
     "slide_type": "-"
    }
   },
   "outputs": [
    {
     "name": "stdout",
     "output_type": "stream",
     "text": [
      "variable      mean standard_deviation\n",
      "          age   11.3665            3.16772\n",
      "     dist_cap   147.674            76.0626\n",
      "     dist_sec   2.41891            2.23409\n",
      "        fam_n   7.21572            2.35289\n",
      "          grc   3.96354            2.49905\n",
      "        grc97   3.70537            2.57237\n",
      "       hohage   44.4367            11.6203\n",
      "       hohedu    2.7681            2.65609\n",
      "       hohsex  0.925185           0.263093\n",
      "       hohwag   586.985            788.129\n",
      "        indig  0.298324           0.457522\n",
      "     min_dist   103.448            42.0892\n",
      "           sc  0.819818           0.384339\n",
      "         sc97  0.813922           0.389169\n",
      "          sex  0.512211           0.499851\n",
      "welfare_index   690.347             139.49\n"
     ]
    }
   ],
   "source": [
    "progresa_df.columns\n",
    "summary_tab=pd.DataFrame(index=range(16),columns=['variable','mean','standard_deviation'])\n",
    "i=0\n",
    "for column in progresa_df:\n",
    "    if((column != 'year')&(column !='folnum')&(column !='village')&(column != 'poor')&(column != 'progresa')):\n",
    "        temp=pd.Series(progresa_df.loc[:,column])\n",
    "        mean_v=np.mean(temp)\n",
    "        stdi=np.std(temp)\n",
    "        summary_tab.iloc[i]=dict(variable=column,mean=mean_v,standard_deviation=stdi)\n",
    "        i=i+1\n",
    "        \n",
    "print (summary_tab.sort_values(by='variable').to_string(index=False))\n",
    "\n",
    "        \n"
   ]
  },
  {
   "cell_type": "markdown",
   "metadata": {
    "ein.tags": [
     "worksheet-0"
    ],
    "slideshow": {
     "slide_type": "-"
    }
   },
   "source": [
    "### 1.2 Differences at baseline?\n",
    "\n",
    "Are the baseline (1997) demographic characteristics **for the poor**  different in treatment and control villages? Hint: Use a T-Test to determine whether there is a statistically significant difference in the average values of each of the variables in the dataset. Focus only on the data from 1997 for individuals who are poor (i.e., poor=='pobre').\n",
    "\n",
    "Present your results in a single table with the following columns and 14 (or so) rows:\n",
    "\n",
    "| Variable name | Average value (Treatment villages) | Average value (Control villages) | Difference (Treat - Control) | p-value |\n",
    "|------|------|------|------|------|\n",
    "|Male  |?     |?     |?     |?     |\n"
   ]
  },
  {
   "cell_type": "code",
   "execution_count": 204,
   "metadata": {
    "autoscroll": "json-false",
    "collapsed": false,
    "ein.tags": [
     "worksheet-0"
    ],
    "slideshow": {
     "slide_type": "-"
    }
   },
   "outputs": [
    {
     "name": "stdout",
     "output_type": "stream",
     "text": [
      "variable_name  avg_valt  avg_valc        diff        p_val\n",
      "          sex  0.519317  0.505052   0.0142652    0.0122074\n",
      "        indig  0.325986  0.332207 -0.00622198     0.245902\n",
      "     dist_sec   2.45312   2.50766  -0.0545398    0.0426628\n",
      "           sc  0.822697  0.815186  0.00751088    0.0964612\n",
      "          grc    3.5316   3.54305  -0.0114503     0.689523\n",
      "        fam_n   7.28133   7.30247  -0.0211419     0.428967\n",
      "     min_dist   107.153   103.238     3.91506   7.0558e-16\n",
      "     dist_cap   150.829    153.77    -2.94066   0.00114648\n",
      "       hohedu   2.66314   2.59035   0.0727912    0.0103822\n",
      "       hohwag    544.34   573.164     -28.824  0.000328729\n",
      "welfare_index   655.428   659.579    -4.15072   0.00153168\n",
      "       hohsex  0.924656  0.922947  0.00170878     0.572125\n",
      "       hohage   43.6488   44.2769    -0.62809  2.25946e-06\n",
      "          age    10.717    10.742   -0.025032     0.478363\n",
      "        grc97    3.5316   3.54305  -0.0114503     0.689523\n",
      "         sc97  0.822697  0.815186  0.00751088    0.0964612\n"
     ]
    }
   ],
   "source": [
    "baseline_df=pd.DataFrame(index=range(1,16),columns=['variable_name', 'avg_valt','avg_valc','diff','p_val'])\n",
    "i=1\n",
    "for column in progresa_df:\n",
    "    if((column != 'year')&(column !='folnum')&(column !='village')&(column != 'poor')&(column != 'progresa')):\n",
    "        temp1=pd.Series(progresa_df.loc[:,column].where((progresa_df['poor']==\"pobre\")&(progresa_df['progresa']==\"basal\")&(progresa_df['year']==97)))\n",
    "        mean_t=np.mean(temp1)\n",
    "        temp2=pd.Series(progresa_df.loc[:,column].where((progresa_df['poor']==\"pobre\")&(progresa_df['progresa']==\"0\")&(progresa_df['year']==97)))\n",
    "        mean_c=np.mean(temp2)\n",
    "        (tval,pval)=sp.stats.ttest_ind(temp1,temp2,equal_var = False,nan_policy='omit')\n",
    "        baseline_df.loc[i]=dict(variable_name=column,avg_valt=mean_t,avg_valc=mean_c,diff=(mean_t-mean_c),p_val=pval)\n",
    "        i=i+1\n",
    "print (baseline_df.to_string(index=False))\n",
    "\n",
    "        "
   ]
  },
  {
   "cell_type": "markdown",
   "metadata": {
    "ein.tags": [
     "worksheet-0"
    ],
    "slideshow": {
     "slide_type": "-"
    }
   },
   "source": [
    "### 1.3 Interpretation\n",
    "\n",
    "* A: Are there statistically significant differences between treatment and control villages as baseline? \n",
    "* B: Why does it matter if there are differences at baseline?\n",
    "* C: What does this imply about how to measure the impact of the treatment?"
   ]
  },
  {
   "cell_type": "code",
   "execution_count": 205,
   "metadata": {
    "autoscroll": "json-false",
    "collapsed": false,
    "ein.tags": [
     "worksheet-0"
    ],
    "slideshow": {
     "slide_type": "-"
    }
   },
   "outputs": [
    {
     "name": "stdout",
     "output_type": "stream",
     "text": [
      "alpha=0.10: \n",
      "     variable_name  avg_valt  avg_valc        diff        p_val\n",
      "1             sex  0.519317  0.505052   0.0142652    0.0122074\n",
      "3        dist_sec   2.45312   2.50766  -0.0545398    0.0426628\n",
      "4              sc  0.822697  0.815186  0.00751088    0.0964612\n",
      "7        min_dist   107.153   103.238     3.91506   7.0558e-16\n",
      "8        dist_cap   150.829    153.77    -2.94066   0.00114648\n",
      "9          hohedu   2.66314   2.59035   0.0727912    0.0103822\n",
      "10         hohwag    544.34   573.164     -28.824  0.000328729\n",
      "11  welfare_index   655.428   659.579    -4.15072   0.00153168\n",
      "13         hohage   43.6488   44.2769    -0.62809  2.25946e-06\n",
      "16           sc97  0.822697  0.815186  0.00751088    0.0964612\n",
      "\n",
      " alpha=0.01\n",
      "     variable_name avg_valt avg_valc     diff        p_val\n",
      "7        min_dist  107.153  103.238  3.91506   7.0558e-16\n",
      "8        dist_cap  150.829   153.77 -2.94066   0.00114648\n",
      "10         hohwag   544.34  573.164  -28.824  0.000328729\n",
      "11  welfare_index  655.428  659.579 -4.15072   0.00153168\n",
      "13         hohage  43.6488  44.2769 -0.62809  2.25946e-06\n"
     ]
    }
   ],
   "source": [
    "#A: Null Hyp: there is no statistical difference\n",
    "# alt hyp: there is statistical difference\n",
    "#Here, if choosen p value as 0.10\n",
    "print(\"alpha=0.10: \\n\",baseline_df.where(baseline_df.p_val<0.10).dropna())\n",
    "#if p=0.05\n",
    "print(\"\\n alpha=0.01\\n\",baseline_df.where(baseline_df.p_val<0.010).dropna())\n",
    "#proceeding with alpha = 0.01 "
   ]
  },
  {
   "cell_type": "markdown",
   "metadata": {},
   "source": [
    "A: Are there statistically significant differences between treatment and control villages as baseline? \n",
    "\n",
    "The following factors have significant difference between treatment and control villages : minimum distance to urban center, minimum distance to capital, monthly wages of head of household, house head age,welfare index used to classify poor.\n",
    "\n",
    "B: Why does it matter if there are differences at baseline?\n",
    "\n",
    "It is important that there is minimal difference between treatment and control groups in a randomized trial. If the treatment and control groups are not equal to start, the results will have the influence of confounding variables. for example, here we see welfare index to have a significant difference. Given the welfare index is an important factor that decides if the family gets progresa, the difference should ideally not be significant.\n",
    "\n",
    "C: What does this imply about how to measure the impact of the treatment?\n",
    "As dscussed above, as we know some important factors are statistically significant differences between control and treatment groups, care has to be taken to account these difference while interpreting the results and while developing the model, these difference should be controlled for.\n"
   ]
  },
  {
   "cell_type": "markdown",
   "metadata": {
    "ein.tags": [
     "worksheet-0"
    ],
    "slideshow": {
     "slide_type": "-"
    }
   },
   "source": [
    "### 1.4 Graphical exploration, part 1\n",
    "\n",
    "For each level of household head education, compute the average enrollment rate in 1997. Create a scatterplot that shows this relationship. What do you notice?"
   ]
  },
  {
   "cell_type": "code",
   "execution_count": 206,
   "metadata": {
    "autoscroll": "json-false",
    "collapsed": false,
    "ein.tags": [
     "worksheet-0"
    ],
    "slideshow": {
     "slide_type": "-"
    }
   },
   "outputs": [
    {
     "data": {
      "text/plain": [
       "(1, 20)"
      ]
     },
     "execution_count": 206,
     "metadata": {},
     "output_type": "execute_result"
    },
    {
     "data": {
      "image/png": "[encoded data removed]",
      "text/plain": [
       "<matplotlib.figure.Figure at 0x1c00261d160>"
      ]
     },
     "metadata": {},
     "output_type": "display_data"
    },
    {
     "data": {
      "image/png": "[encoded data removed]",
      "text/plain": [
       "<matplotlib.figure.Figure at 0x1c002e3ba58>"
      ]
     },
     "metadata": {},
     "output_type": "display_data"
    }
   ],
   "source": [
    "#progresa_df.plot.scatter(x='hohedu',y='sc')\n",
    "#plotting without mean\n",
    "avg_enrol=pd.DataFrame(progresa_df.where(progresa_df.year==97))\n",
    "matplotlib.style.use('ggplot')\n",
    "avg_enrol.plot.scatter(x='hohedu',y='sc',use_index=True)\n",
    "plt.ylim([-0.5,1.5])\n",
    "plt.xlim([1,20])\n",
    "#plotting average enrollment rate\n",
    "avg_enrol=avg_enrol.groupby(avg_enrol.hohedu).mean()\n",
    "avg_enrol.reset_index().plot.scatter(x='hohedu',y='sc',use_index=True)\n",
    "plt.ylim([0.6,1.2])\n",
    "plt.xlim([1,20])"
   ]
  },
  {
   "cell_type": "markdown",
   "metadata": {},
   "source": [
    "The general trend is that, as household education goes up enrollment rate increases. But there are few point that indicate otherwise. Two significant dips can be observed. When the hohedu value is 10 and when it is 15, the enrollment rate sinks contrary to the trend."
   ]
  },
  {
   "cell_type": "markdown",
   "metadata": {
    "ein.tags": [
     "worksheet-0"
    ],
    "slideshow": {
     "slide_type": "-"
    }
   },
   "source": [
    "### 1.5 Graphical exploration, part 2\n",
    "\n",
    "Create a histogram of village enrollment rates **among poor households in treated villages**, before and after treatment. Specifically, for each village, calculate the average rate of enrollment of poor households in treated villages in 1997, then compute the average rate of enrollment of poor households in treated villages in 1998. Create two separate histograms showing the distribution of these average enrollments rates, one histogram for 1997 and one histogram for 1998. On each histogram, draw a vertical line that intersects the x-axis at the average value (across all households).\n",
    "* Does there appear to be a difference? Is this difference statistically significant?\n",
    "* Which D estimator in Schultz (2004) does this approach correspond to?"
   ]
  },
  {
   "cell_type": "code",
   "execution_count": 207,
   "metadata": {
    "autoscroll": "json-false",
    "collapsed": false,
    "ein.tags": [
     "worksheet-0"
    ],
    "slideshow": {
     "slide_type": "-"
    }
   },
   "outputs": [
    {
     "data": {
      "image/png": "[encoded data removed]",
      "text/plain": [
       "<matplotlib.figure.Figure at 0x1c002441940>"
      ]
     },
     "metadata": {},
     "output_type": "display_data"
    },
    {
     "name": "stdout",
     "output_type": "stream",
     "text": [
      "0.0442493434226\n"
     ]
    },
    {
     "data": {
      "image/png": "[encoded data removed]",
      "text/plain": [
       "<matplotlib.figure.Figure at 0x1c0026c5eb8>"
      ]
     },
     "metadata": {},
     "output_type": "display_data"
    }
   ],
   "source": [
    "#for 97\n",
    "avg_enrol_b=pd.DataFrame(progresa_df.where((progresa_df.year==97)&(progresa_df.poor== 'pobre')&(progresa_df.progresa== 'basal')))\n",
    "avg_enrol_b=avg_enrol_b.groupby(avg_enrol_b.village).mean()\n",
    "avg_enrol_b['sc'].plot.hist(alpha=0.5)\n",
    "plt.xlim([0.2,1])\n",
    "plt.axvline(avg_enrol_b.sc.mean(),color = 'blue')\n",
    "plt.show()\n",
    "#for 98\n",
    "avg_enrol_a=pd.DataFrame(progresa_df.where((progresa_df.year==98)&(progresa_df.poor== 'pobre')&(progresa_df.progresa== 'basal')))\n",
    "avg_enrol_a=avg_enrol_a.groupby(avg_enrol_a.village).mean()\n",
    "avg_enrol_a['sc'].plot.hist(alpha=0.5)\n",
    "plt.xlim([0.2,1])\n",
    "plt.axvline(avg_enrol_a.sc.mean(),color = 'blue')\n",
    "# for statistical difference\n",
    "(tval,pval)=sp.stats.ttest_ind(avg_enrol_b.sc,avg_enrol_a.sc,equal_var = False)\n",
    "print(pval)"
   ]
  },
  {
   "cell_type": "markdown",
   "metadata": {},
   "source": [
    "p val for t-test between the average means for poor villages in 97 and 98 is not less that 0.01(the set alpha value for this analysis). Therefore, the difference is not statistically significant."
   ]
  },
  {
   "cell_type": "markdown",
   "metadata": {
    "ein.tags": [
     "worksheet-0"
    ],
    "slideshow": {
     "slide_type": "-"
    }
   },
   "source": [
    "## Part 2: Measuring Impact\n",
    "\n",
    "### 2.1 Simple differences: T-test\n",
    "\n",
    "Start out by estimating the impact of Progresa using \"simple differences.\" Restricting yourself to data from 1998 (after treatment).\n",
    "* calculate the average enrollment rate among **poor** households in the Treatment villages and the average enrollment rate among **poor** households in the control villages.\n",
    "* Which difference estimator in Schultz (2004) does this approach correspond to?\n",
    "* Use a t-test to determine if this difference is statistically significant. What do you conclude?"
   ]
  },
  {
   "cell_type": "code",
   "execution_count": 208,
   "metadata": {
    "autoscroll": "json-false",
    "collapsed": false,
    "ein.tags": [
     "worksheet-0"
    ],
    "slideshow": {
     "slide_type": "-"
    }
   },
   "outputs": [
    {
     "name": "stdout",
     "output_type": "stream",
     "text": [
      "0.8464791213954308\n",
      "0.807636956730308\n",
      "2.96550729885e-16\n"
     ]
    }
   ],
   "source": [
    "temp1=pd.Series(progresa_df.loc[:,'sc'].where((progresa_df.year==98)&(progresa_df['poor']==\"pobre\")&(progresa_df['progresa']==\"basal\")))\n",
    "print (np.mean(temp1))\n",
    "temp2=pd.Series(progresa_df.loc[:,'sc'].where((progresa_df.year==98)&(progresa_df['poor']==\"pobre\")&(progresa_df['progresa']==\"0\")))\n",
    "print(np.mean(temp2))\n",
    "(tval,pval)=sp.stats.ttest_ind(temp1,temp2,equal_var = False,nan_policy='omit')\n",
    "#print (tval,pval)\n",
    "#choosing alpha 0.01.\n",
    "if(pval<0.01):\n",
    "    print(pval)"
   ]
  },
  {
   "cell_type": "markdown",
   "metadata": {},
   "source": [
    "Here pval is less than alpha so the difference is statistically significant. In question 1, we computed the differences for the data of year 97. We found that difference enrollment average between treatment and control is not significant in the year 97.The villages that were in control in 97 were in control group in 98, same for treatment groups. So there seems to be an impact on enrollment rates between the years most likely due to progresa.\n",
    "\n",
    "This approach corresponds to D1 estimator in Schultz."
   ]
  },
  {
   "cell_type": "markdown",
   "metadata": {
    "ein.tags": [
     "worksheet-0"
    ],
    "slideshow": {
     "slide_type": "-"
    }
   },
   "source": [
    "### 2.2 Simple differences: Regression\n",
    "\n",
    "Estimate the effects of Progresa on enrollment using a regression model, by regressing the 1998 enrollment rates **of the poor** on treatment assignment. Discuss the following:\n",
    "\n",
    "* Based on this model, how much did Progresa increase the likelihood of a child enrolling?\n",
    "* How does your regression estimate compare to your t-test estimate from part 2.1?\n",
    "* Based on this regression model, can we reject the null hypothesis that the treatment effects are zero? \n",
    "* What is the counterfactual assumption underlying this regression?"
   ]
  },
  {
   "cell_type": "code",
   "execution_count": 89,
   "metadata": {
    "autoscroll": "json-false",
    "collapsed": false,
    "ein.tags": [
     "worksheet-0"
    ],
    "slideshow": {
     "slide_type": "-"
    }
   },
   "outputs": [
    {
     "data": {
      "text/html": [
       "<table class=\"simpletable\">\n",
       "<caption>OLS Regression Results</caption>\n",
       "<tr>\n",
       "  <th>Dep. Variable:</th>           <td>sc</td>        <th>  R-squared:         </th> <td>   0.003</td> \n",
       "</tr>\n",
       "<tr>\n",
       "  <th>Model:</th>                   <td>OLS</td>       <th>  Adj. R-squared:    </th> <td>   0.003</td> \n",
       "</tr>\n",
       "<tr>\n",
       "  <th>Method:</th>             <td>Least Squares</td>  <th>  F-statistic:       </th> <td>   69.87</td> \n",
       "</tr>\n",
       "<tr>\n",
       "  <th>Date:</th>             <td>Tue, 02 May 2017</td> <th>  Prob (F-statistic):</th> <td>6.64e-17</td> \n",
       "</tr>\n",
       "<tr>\n",
       "  <th>Time:</th>                 <td>02:14:26</td>     <th>  Log-Likelihood:    </th> <td> -11926.</td> \n",
       "</tr>\n",
       "<tr>\n",
       "  <th>No. Observations:</th>      <td> 27450</td>      <th>  AIC:               </th> <td>2.386e+04</td>\n",
       "</tr>\n",
       "<tr>\n",
       "  <th>Df Residuals:</th>          <td> 27448</td>      <th>  BIC:               </th> <td>2.387e+04</td>\n",
       "</tr>\n",
       "<tr>\n",
       "  <th>Df Model:</th>              <td>     1</td>      <th>                     </th>     <td> </td>    \n",
       "</tr>\n",
       "<tr>\n",
       "  <th>Covariance Type:</th>      <td>nonrobust</td>    <th>                     </th>     <td> </td>    \n",
       "</tr>\n",
       "</table>\n",
       "<table class=\"simpletable\">\n",
       "<tr>\n",
       "          <td></td>             <th>coef</th>     <th>std err</th>      <th>t</th>      <th>P>|t|</th> <th>[95.0% Conf. Int.]</th> \n",
       "</tr>\n",
       "<tr>\n",
       "  <th>Intercept</th>         <td>    0.8076</td> <td>    0.004</td> <td>  220.676</td> <td> 0.000</td> <td>    0.800     0.815</td>\n",
       "</tr>\n",
       "<tr>\n",
       "  <th>progresa[T.basal]</th> <td>    0.0388</td> <td>    0.005</td> <td>    8.359</td> <td> 0.000</td> <td>    0.030     0.048</td>\n",
       "</tr>\n",
       "</table>\n",
       "<table class=\"simpletable\">\n",
       "<tr>\n",
       "  <th>Omnibus:</th>       <td>7638.939</td> <th>  Durbin-Watson:     </th> <td>   1.734</td> \n",
       "</tr>\n",
       "<tr>\n",
       "  <th>Prob(Omnibus):</th>  <td> 0.000</td>  <th>  Jarque-Bera (JB):  </th> <td>15767.534</td>\n",
       "</tr>\n",
       "<tr>\n",
       "  <th>Skew:</th>           <td>-1.767</td>  <th>  Prob(JB):          </th> <td>    0.00</td> \n",
       "</tr>\n",
       "<tr>\n",
       "  <th>Kurtosis:</th>       <td> 4.140</td>  <th>  Cond. No.          </th> <td>    3.01</td> \n",
       "</tr>\n",
       "</table>"
      ],
      "text/plain": [
       "<class 'statsmodels.iolib.summary.Summary'>\n",
       "\"\"\"\n",
       "                            OLS Regression Results                            \n",
       "==============================================================================\n",
       "Dep. Variable:                     sc   R-squared:                       0.003\n",
       "Model:                            OLS   Adj. R-squared:                  0.003\n",
       "Method:                 Least Squares   F-statistic:                     69.87\n",
       "Date:                Tue, 02 May 2017   Prob (F-statistic):           6.64e-17\n",
       "Time:                        02:14:26   Log-Likelihood:                -11926.\n",
       "No. Observations:               27450   AIC:                         2.386e+04\n",
       "Df Residuals:                   27448   BIC:                         2.387e+04\n",
       "Df Model:                           1                                         \n",
       "Covariance Type:            nonrobust                                         \n",
       "=====================================================================================\n",
       "                        coef    std err          t      P>|t|      [95.0% Conf. Int.]\n",
       "-------------------------------------------------------------------------------------\n",
       "Intercept             0.8076      0.004    220.676      0.000         0.800     0.815\n",
       "progresa[T.basal]     0.0388      0.005      8.359      0.000         0.030     0.048\n",
       "==============================================================================\n",
       "Omnibus:                     7638.939   Durbin-Watson:                   1.734\n",
       "Prob(Omnibus):                  0.000   Jarque-Bera (JB):            15767.534\n",
       "Skew:                          -1.767   Prob(JB):                         0.00\n",
       "Kurtosis:                       4.140   Cond. No.                         3.01\n",
       "==============================================================================\n",
       "\n",
       "Warnings:\n",
       "[1] Standard Errors assume that the covariance matrix of the errors is correctly specified.\n",
       "\"\"\""
      ]
     },
     "execution_count": 89,
     "metadata": {},
     "output_type": "execute_result"
    }
   ],
   "source": [
    "progresar_df=pd.DataFrame(progresa_df.where((progresa_df.year==98)&(progresa_df['poor']==\"pobre\")))\n",
    "lm=sm.ols(formula='sc~progresa',data=progresar_df).fit()\n",
    "lm.summary()"
   ]
  },
  {
   "cell_type": "markdown",
   "metadata": {},
   "source": [
    "1. Based on this model, how much did Progresa increase the likelihood of a child enrolling?\n",
    "progresa co-eff is 0.0388. So there is a 3.88 percent more chance that a child is likely to enroll in school if in the progresa program.\n",
    "2.How does your regression estimate compare to your t-test estimate from part 2.1?\n",
    "From the previous question, we concluded that progresa has some effect on enrollment rate. Here we find that it increase is 3.8%\n",
    "3.Based on this regression model, can we reject the null hypothesis that the treatment effects are zero?\n",
    "The p value listed here is so low that is rounded of to zero which is less that 0.01. There we can reject null hypothesis that progresa had no effect.\n",
    "4.What is the counterfactual assumption underlying this regression?\n",
    "The alternate hypothesis is that there is no difference in enrollment due to the progresa treatment.\n"
   ]
  },
  {
   "cell_type": "markdown",
   "metadata": {
    "ein.tags": [
     "worksheet-0"
    ],
    "slideshow": {
     "slide_type": "-"
    }
   },
   "source": [
    "### 2.3 Multiple Regression\n",
    "\n",
    "Re-run the above regression estimated but this time include a set of control variables. Include, for instance, age, distance to a secondary school, gender, education of household head, indigenous, etc.\n",
    "\n",
    "* How do the controls affect the point estimate of treatment effect?\n",
    "* How do the controls affect the standard error on the treatment effect? \n",
    "* How do you interpret the differences (or similarities) between your estimates of 2.2 and 2.3?"
   ]
  },
  {
   "cell_type": "code",
   "execution_count": 164,
   "metadata": {
    "autoscroll": "json-false",
    "collapsed": false,
    "ein.tags": [
     "worksheet-0"
    ],
    "slideshow": {
     "slide_type": "-"
    }
   },
   "outputs": [
    {
     "data": {
      "text/html": [
       "<table class=\"simpletable\">\n",
       "<caption>OLS Regression Results</caption>\n",
       "<tr>\n",
       "  <th>Dep. Variable:</th>           <td>sc</td>        <th>  R-squared:         </th> <td>   0.268</td> \n",
       "</tr>\n",
       "<tr>\n",
       "  <th>Model:</th>                   <td>OLS</td>       <th>  Adj. R-squared:    </th> <td>   0.268</td> \n",
       "</tr>\n",
       "<tr>\n",
       "  <th>Method:</th>             <td>Least Squares</td>  <th>  F-statistic:       </th> <td>   1250.</td> \n",
       "</tr>\n",
       "<tr>\n",
       "  <th>Date:</th>             <td>Tue, 02 May 2017</td> <th>  Prob (F-statistic):</th>  <td>  0.00</td>  \n",
       "</tr>\n",
       "<tr>\n",
       "  <th>Time:</th>                 <td>11:52:31</td>     <th>  Log-Likelihood:    </th> <td> -7671.7</td> \n",
       "</tr>\n",
       "<tr>\n",
       "  <th>No. Observations:</th>      <td> 27340</td>      <th>  AIC:               </th> <td>1.536e+04</td>\n",
       "</tr>\n",
       "<tr>\n",
       "  <th>Df Residuals:</th>          <td> 27331</td>      <th>  BIC:               </th> <td>1.544e+04</td>\n",
       "</tr>\n",
       "<tr>\n",
       "  <th>Df Model:</th>              <td>     8</td>      <th>                     </th>     <td> </td>    \n",
       "</tr>\n",
       "<tr>\n",
       "  <th>Covariance Type:</th>      <td>nonrobust</td>    <th>                     </th>     <td> </td>    \n",
       "</tr>\n",
       "</table>\n",
       "<table class=\"simpletable\">\n",
       "<tr>\n",
       "          <td></td>             <th>coef</th>     <th>std err</th>      <th>t</th>      <th>P>|t|</th> <th>[95.0% Conf. Int.]</th> \n",
       "</tr>\n",
       "<tr>\n",
       "  <th>Intercept</th>         <td>    1.5261</td> <td>    0.011</td> <td>  134.062</td> <td> 0.000</td> <td>    1.504     1.548</td>\n",
       "</tr>\n",
       "<tr>\n",
       "  <th>progresa[T.basal]</th> <td>    0.0356</td> <td>    0.004</td> <td>    8.906</td> <td> 0.000</td> <td>    0.028     0.043</td>\n",
       "</tr>\n",
       "<tr>\n",
       "  <th>age</th>               <td>   -0.0655</td> <td>    0.001</td> <td>  -95.631</td> <td> 0.000</td> <td>   -0.067    -0.064</td>\n",
       "</tr>\n",
       "<tr>\n",
       "  <th>dist_sec</th>          <td>   -0.0119</td> <td>    0.001</td> <td>  -13.620</td> <td> 0.000</td> <td>   -0.014    -0.010</td>\n",
       "</tr>\n",
       "<tr>\n",
       "  <th>sex</th>               <td>    0.0310</td> <td>    0.004</td> <td>    7.988</td> <td> 0.000</td> <td>    0.023     0.039</td>\n",
       "</tr>\n",
       "<tr>\n",
       "  <th>hohedu</th>            <td>    0.0087</td> <td>    0.001</td> <td>   10.979</td> <td> 0.000</td> <td>    0.007     0.010</td>\n",
       "</tr>\n",
       "<tr>\n",
       "  <th>indig</th>             <td>    0.0467</td> <td>    0.004</td> <td>   11.214</td> <td> 0.000</td> <td>    0.039     0.055</td>\n",
       "</tr>\n",
       "<tr>\n",
       "  <th>fam_n</th>             <td>   -0.0003</td> <td>    0.001</td> <td>   -0.365</td> <td> 0.715</td> <td>   -0.002     0.001</td>\n",
       "</tr>\n",
       "<tr>\n",
       "  <th>hohwag</th>            <td>-6.165e-07</td> <td>  2.8e-06</td> <td>   -0.220</td> <td> 0.826</td> <td>-6.11e-06  4.88e-06</td>\n",
       "</tr>\n",
       "</table>\n",
       "<table class=\"simpletable\">\n",
       "<tr>\n",
       "  <th>Omnibus:</th>       <td>2974.454</td> <th>  Durbin-Watson:     </th> <td>   1.717</td>\n",
       "</tr>\n",
       "<tr>\n",
       "  <th>Prob(Omnibus):</th>  <td> 0.000</td>  <th>  Jarque-Bera (JB):  </th> <td>4048.819</td>\n",
       "</tr>\n",
       "<tr>\n",
       "  <th>Skew:</th>           <td>-0.935</td>  <th>  Prob(JB):          </th> <td>    0.00</td>\n",
       "</tr>\n",
       "<tr>\n",
       "  <th>Kurtosis:</th>       <td> 3.239</td>  <th>  Cond. No.          </th> <td>5.33e+03</td>\n",
       "</tr>\n",
       "</table>"
      ],
      "text/plain": [
       "<class 'statsmodels.iolib.summary.Summary'>\n",
       "\"\"\"\n",
       "                            OLS Regression Results                            \n",
       "==============================================================================\n",
       "Dep. Variable:                     sc   R-squared:                       0.268\n",
       "Model:                            OLS   Adj. R-squared:                  0.268\n",
       "Method:                 Least Squares   F-statistic:                     1250.\n",
       "Date:                Tue, 02 May 2017   Prob (F-statistic):               0.00\n",
       "Time:                        11:52:31   Log-Likelihood:                -7671.7\n",
       "No. Observations:               27340   AIC:                         1.536e+04\n",
       "Df Residuals:                   27331   BIC:                         1.544e+04\n",
       "Df Model:                           8                                         \n",
       "Covariance Type:            nonrobust                                         \n",
       "=====================================================================================\n",
       "                        coef    std err          t      P>|t|      [95.0% Conf. Int.]\n",
       "-------------------------------------------------------------------------------------\n",
       "Intercept             1.5261      0.011    134.062      0.000         1.504     1.548\n",
       "progresa[T.basal]     0.0356      0.004      8.906      0.000         0.028     0.043\n",
       "age                  -0.0655      0.001    -95.631      0.000        -0.067    -0.064\n",
       "dist_sec             -0.0119      0.001    -13.620      0.000        -0.014    -0.010\n",
       "sex                   0.0310      0.004      7.988      0.000         0.023     0.039\n",
       "hohedu                0.0087      0.001     10.979      0.000         0.007     0.010\n",
       "indig                 0.0467      0.004     11.214      0.000         0.039     0.055\n",
       "fam_n                -0.0003      0.001     -0.365      0.715        -0.002     0.001\n",
       "hohwag            -6.165e-07    2.8e-06     -0.220      0.826     -6.11e-06  4.88e-06\n",
       "==============================================================================\n",
       "Omnibus:                     2974.454   Durbin-Watson:                   1.717\n",
       "Prob(Omnibus):                  0.000   Jarque-Bera (JB):             4048.819\n",
       "Skew:                          -0.935   Prob(JB):                         0.00\n",
       "Kurtosis:                       3.239   Cond. No.                     5.33e+03\n",
       "==============================================================================\n",
       "\n",
       "Warnings:\n",
       "[1] Standard Errors assume that the covariance matrix of the errors is correctly specified.\n",
       "[2] The condition number is large, 5.33e+03. This might indicate that there are\n",
       "strong multicollinearity or other numerical problems.\n",
       "\"\"\""
      ]
     },
     "execution_count": 164,
     "metadata": {},
     "output_type": "execute_result"
    }
   ],
   "source": [
    "progresam_df=pd.DataFrame(progresa_df.where((progresa_df.year==98)&(progresa_df['poor']==\"pobre\")))\n",
    "lm=sm.ols(formula='sc~progresa+age+dist_sec+sex+hohedu+indig+fam_n+hohwag',data=progresam_df).fit()\n",
    "lm.summary()"
   ]
  },
  {
   "cell_type": "markdown",
   "metadata": {},
   "source": [
    "1. How do the controls affect the point estimate of treatment effect?\n",
    "The progresa co-eff is now 3.5% less that 3.8%. On including the other factors such as gender and indig, we are running a more realistic regression inclusive of multiple factors. This co-eff is closer to the actual observed value.\n",
    "2. How do the controls affect the standard error on the treatment effect?\n",
    "The error rate has reduced by 0.001, which emphasizes the finding from our earlier point that including other factors that could influence enrollment rate provides a realistic effect of progresa on enrollment rate.\n",
    "3. How do you interpret the differences (or similarities) between your estimates of 2.2 and 2.3?\n",
    "estimates from 2.3 are more accurate than estimates from 2.2. There is a minor reduction in error and influence of progresa on enrollment rate. 2.3 provides values closer to what could actually be observed.\n"
   ]
  },
  {
   "cell_type": "markdown",
   "metadata": {
    "ein.tags": [
     "worksheet-0"
    ],
    "slideshow": {
     "slide_type": "-"
    }
   },
   "source": [
    "### 2.4 Difference-in-Difference, version 1 (tabular)\n",
    "\n",
    "Thus far, we have computed the effects of Progresa by estimating the difference in 1998 enrollment rates across villages. An alternative approach would be to compute the treatment effect using a difference-in-differences framework.\n",
    "\n",
    "Begin by estimating the average treatment effects of the program for poor households using data from 1997 and 1998. Specifically, calculate the difference (between 1997 and 1998) in enrollment rates among poor households in treated villages; then compute the difference (between 1997 and 1998) in enrollment rates among poor households in treated villages. The difference between these two differences is your estimate.\n",
    "\n",
    "* What is your estimate of the impact, and how does it compare to your earlier (simple difference) results?\n",
    "* What is the counterfactual assumption underlying this estimate? \n"
   ]
  },
  {
   "cell_type": "code",
   "execution_count": 167,
   "metadata": {
    "autoscroll": "json-false",
    "collapsed": false,
    "ein.tags": [
     "worksheet-0"
    ],
    "slideshow": {
     "slide_type": "-"
    }
   },
   "outputs": [
    {
     "name": "stdout",
     "output_type": "stream",
     "text": [
      "0.031331280319323085\n"
     ]
    }
   ],
   "source": [
    "difft_97=pd.DataFrame(progresa_df.where((progresa_df.year==97)&(progresa_df['poor']==\"pobre\")&(progresa_df.progresa=='basal')))\n",
    "diffc_97=pd.DataFrame(progresa_df.where((progresa_df.year==97)&(progresa_df['poor']==\"pobre\")&(progresa_df.progresa=='0')))\n",
    "\n",
    "difft_98=pd.DataFrame(progresa_df.where((progresa_df.year==98)&(progresa_df['poor']==\"pobre\")&(progresa_df.progresa=='basal')))\n",
    "diffc_98=pd.DataFrame(progresa_df.where((progresa_df.year==98)&(progresa_df['poor']==\"pobre\")&(progresa_df.progresa=='0')))\n",
    "\n",
    "diff1=difft_98.sc.mean()-difft_97.sc.mean()\n",
    "diff2=diffc_98.sc.mean()-diffc_97.sc.mean()\n",
    "print (diff1-diff2)"
   ]
  },
  {
   "cell_type": "markdown",
   "metadata": {},
   "source": [
    "1. What is your estimate of the impact, and how does it compare to your earlier (simple difference) results?\n",
    "Here we find that there is 3.1% influence of progresa on enrollment rate. In the previous multiple regression that was run we obtained the value as 3.5(including various other factors like gender,distance etc.).By the difference in difference method we see that impact of progressa on enrollment drops comparitively but there is a significant impact.\n",
    "2. What is the counterfactual assumption underlying this estimate?\n",
    "There is no change in enrollment rate between villages that were treated with progresa and control villages that were in the progresa program."
   ]
  },
  {
   "cell_type": "markdown",
   "metadata": {
    "ein.tags": [
     "worksheet-0"
    ],
    "slideshow": {
     "slide_type": "-"
    }
   },
   "source": [
    "### 2.5 Difference-in-Difference, version 1 (regression)\n",
    "\n",
    "Now use a regression specification to estimate the average treatment effect of the program (on the poor) in a difference-in-differences framework. Include at least 5 control variables.\n",
    "\n",
    "* What is your estimate of the impact of Progresa? Be very specific in interpreting your coefficients and standard errors, and make sure to specify exactly what units you are measuring and estimating.\n",
    "* How do these estimates of the treatment effect compare to the estimates based on the simple difference?\n",
    "* How do these estimates compare to the difference-in-difference estimates from 2.4 above? What accounts for these differences?\n",
    "* What is the counterfactual assumption underlying this regression? "
   ]
  },
  {
   "cell_type": "code",
   "execution_count": 200,
   "metadata": {
    "autoscroll": "json-false",
    "collapsed": false,
    "ein.tags": [
     "worksheet-0"
    ],
    "slideshow": {
     "slide_type": "-"
    }
   },
   "outputs": [
    {
     "data": {
      "text/html": [
       "<table class=\"simpletable\">\n",
       "<caption>OLS Regression Results</caption>\n",
       "<tr>\n",
       "  <th>Dep. Variable:</th>           <td>sc</td>        <th>  R-squared:         </th> <td>   0.279</td> \n",
       "</tr>\n",
       "<tr>\n",
       "  <th>Model:</th>                   <td>OLS</td>       <th>  Adj. R-squared:    </th> <td>   0.279</td> \n",
       "</tr>\n",
       "<tr>\n",
       "  <th>Method:</th>             <td>Least Squares</td>  <th>  F-statistic:       </th> <td>   2248.</td> \n",
       "</tr>\n",
       "<tr>\n",
       "  <th>Date:</th>             <td>Tue, 02 May 2017</td> <th>  Prob (F-statistic):</th>  <td>  0.00</td>  \n",
       "</tr>\n",
       "<tr>\n",
       "  <th>Time:</th>                 <td>14:04:04</td>     <th>  Log-Likelihood:    </th> <td> -16716.</td> \n",
       "</tr>\n",
       "<tr>\n",
       "  <th>No. Observations:</th>      <td> 58165</td>      <th>  AIC:               </th> <td>3.345e+04</td>\n",
       "</tr>\n",
       "<tr>\n",
       "  <th>Df Residuals:</th>          <td> 58154</td>      <th>  BIC:               </th> <td>3.355e+04</td>\n",
       "</tr>\n",
       "<tr>\n",
       "  <th>Df Model:</th>              <td>    10</td>      <th>                     </th>     <td> </td>    \n",
       "</tr>\n",
       "<tr>\n",
       "  <th>Covariance Type:</th>      <td>nonrobust</td>    <th>                     </th>     <td> </td>    \n",
       "</tr>\n",
       "</table>\n",
       "<table class=\"simpletable\">\n",
       "<tr>\n",
       "             <td></td>               <th>coef</th>     <th>std err</th>      <th>t</th>      <th>P>|t|</th> <th>[95.0% Conf. Int.]</th> \n",
       "</tr>\n",
       "<tr>\n",
       "  <th>Intercept</th>              <td>   -1.1211</td> <td>    0.424</td> <td>   -2.644</td> <td> 0.008</td> <td>   -1.952    -0.290</td>\n",
       "</tr>\n",
       "<tr>\n",
       "  <th>progresa[T.basal]</th>      <td>   -3.0400</td> <td>    0.538</td> <td>   -5.650</td> <td> 0.000</td> <td>   -4.095    -1.985</td>\n",
       "</tr>\n",
       "<tr>\n",
       "  <th>year</th>                   <td>    0.0270</td> <td>    0.004</td> <td>    6.204</td> <td> 0.000</td> <td>    0.018     0.036</td>\n",
       "</tr>\n",
       "<tr>\n",
       "  <th>progresa[T.basal]:year</th> <td>    0.0314</td> <td>    0.006</td> <td>    5.686</td> <td> 0.000</td> <td>    0.021     0.042</td>\n",
       "</tr>\n",
       "<tr>\n",
       "  <th>age</th>                    <td>   -0.0655</td> <td>    0.000</td> <td> -144.338</td> <td> 0.000</td> <td>   -0.066    -0.065</td>\n",
       "</tr>\n",
       "<tr>\n",
       "  <th>dist_sec</th>               <td>   -0.0109</td> <td>    0.001</td> <td>  -17.712</td> <td> 0.000</td> <td>   -0.012    -0.010</td>\n",
       "</tr>\n",
       "<tr>\n",
       "  <th>sex</th>                    <td>    0.0339</td> <td>    0.003</td> <td>   12.661</td> <td> 0.000</td> <td>    0.029     0.039</td>\n",
       "</tr>\n",
       "<tr>\n",
       "  <th>hohedu</th>                 <td>    0.0075</td> <td>    0.001</td> <td>   13.750</td> <td> 0.000</td> <td>    0.006     0.009</td>\n",
       "</tr>\n",
       "<tr>\n",
       "  <th>indig</th>                  <td>    0.0496</td> <td>    0.003</td> <td>   17.225</td> <td> 0.000</td> <td>    0.044     0.055</td>\n",
       "</tr>\n",
       "<tr>\n",
       "  <th>fam_n</th>                  <td>   -0.0006</td> <td>    0.001</td> <td>   -1.057</td> <td> 0.290</td> <td>   -0.002     0.001</td>\n",
       "</tr>\n",
       "<tr>\n",
       "  <th>hohwag</th>                 <td> 6.894e-07</td> <td> 1.92e-06</td> <td>    0.359</td> <td> 0.720</td> <td>-3.08e-06  4.46e-06</td>\n",
       "</tr>\n",
       "</table>\n",
       "<table class=\"simpletable\">\n",
       "<tr>\n",
       "  <th>Omnibus:</th>       <td>5524.150</td> <th>  Durbin-Watson:     </th> <td>   1.483</td>\n",
       "</tr>\n",
       "<tr>\n",
       "  <th>Prob(Omnibus):</th>  <td> 0.000</td>  <th>  Jarque-Bera (JB):  </th> <td>7269.962</td>\n",
       "</tr>\n",
       "<tr>\n",
       "  <th>Skew:</th>           <td>-0.864</td>  <th>  Prob(JB):          </th> <td>    0.00</td>\n",
       "</tr>\n",
       "<tr>\n",
       "  <th>Kurtosis:</th>       <td> 3.113</td>  <th>  Cond. No.          </th> <td>4.40e+05</td>\n",
       "</tr>\n",
       "</table>"
      ],
      "text/plain": [
       "<class 'statsmodels.iolib.summary.Summary'>\n",
       "\"\"\"\n",
       "                            OLS Regression Results                            \n",
       "==============================================================================\n",
       "Dep. Variable:                     sc   R-squared:                       0.279\n",
       "Model:                            OLS   Adj. R-squared:                  0.279\n",
       "Method:                 Least Squares   F-statistic:                     2248.\n",
       "Date:                Tue, 02 May 2017   Prob (F-statistic):               0.00\n",
       "Time:                        14:04:04   Log-Likelihood:                -16716.\n",
       "No. Observations:               58165   AIC:                         3.345e+04\n",
       "Df Residuals:                   58154   BIC:                         3.355e+04\n",
       "Df Model:                          10                                         \n",
       "Covariance Type:            nonrobust                                         \n",
       "==========================================================================================\n",
       "                             coef    std err          t      P>|t|      [95.0% Conf. Int.]\n",
       "------------------------------------------------------------------------------------------\n",
       "Intercept                 -1.1211      0.424     -2.644      0.008        -1.952    -0.290\n",
       "progresa[T.basal]         -3.0400      0.538     -5.650      0.000        -4.095    -1.985\n",
       "year                       0.0270      0.004      6.204      0.000         0.018     0.036\n",
       "progresa[T.basal]:year     0.0314      0.006      5.686      0.000         0.021     0.042\n",
       "age                       -0.0655      0.000   -144.338      0.000        -0.066    -0.065\n",
       "dist_sec                  -0.0109      0.001    -17.712      0.000        -0.012    -0.010\n",
       "sex                        0.0339      0.003     12.661      0.000         0.029     0.039\n",
       "hohedu                     0.0075      0.001     13.750      0.000         0.006     0.009\n",
       "indig                      0.0496      0.003     17.225      0.000         0.044     0.055\n",
       "fam_n                     -0.0006      0.001     -1.057      0.290        -0.002     0.001\n",
       "hohwag                  6.894e-07   1.92e-06      0.359      0.720     -3.08e-06  4.46e-06\n",
       "==============================================================================\n",
       "Omnibus:                     5524.150   Durbin-Watson:                   1.483\n",
       "Prob(Omnibus):                  0.000   Jarque-Bera (JB):             7269.962\n",
       "Skew:                          -0.864   Prob(JB):                         0.00\n",
       "Kurtosis:                       3.113   Cond. No.                     4.40e+05\n",
       "==============================================================================\n",
       "\n",
       "Warnings:\n",
       "[1] Standard Errors assume that the covariance matrix of the errors is correctly specified.\n",
       "[2] The condition number is large, 4.4e+05. This might indicate that there are\n",
       "strong multicollinearity or other numerical problems.\n",
       "\"\"\""
      ]
     },
     "execution_count": 200,
     "metadata": {},
     "output_type": "execute_result"
    }
   ],
   "source": [
    "#poor across years in treatment and control\n",
    "progresad_df=pd.DataFrame(progresa_df.where((progresa_df['poor']==\"pobre\")))\n",
    "lm=sm.ols(formula='sc~progresa*year+progresa+age+dist_sec+sex+hohedu+indig+fam_n+hohwag',data=progresad_df).fit()\n",
    "lm.summary()"
   ]
  },
  {
   "cell_type": "markdown",
   "metadata": {},
   "source": [
    "1. What is your estimate of the impact of Progresa? Be very specific in interpreting your coefficients and standard errors, and make sure to specify exactly what units you are measuring and estimating.\n",
    "the progresa*year coefficient is 0.0314 which indicates that the impact of progresa on enrollment rate is 3.1% through the difference in difference regression. The standard error in this case o.oo6\n",
    "2. How do these estimates of the treatment effect compare to the estimates based on the simple difference?\n",
    "Simple difference lead to an estimate of 3.8 while difference in difference multiple regression led to a value of 3.1. The simple difference estimate is with lower error rate than that of diff-in-diff.\n",
    "3. How do these estimates compare to the difference-in-difference estimates from 2.4 above? What accounts for these differences?\n",
    "When other factors that could influence enrollment such as gender,monthly wages, age are introduced in the diff-in-diff  method the estimate of progresa on enrollment does not change.It stays at 3.1%.\n",
    "4. What is the counterfactual assumption underlying this regression?\n",
    "There is no change in enrollment rate between villages that were treated with progresa and control villages that were in the progresa program give factors such as age, gender, house head education, montly wages of the house head, distance from capital all remained the same."
   ]
  },
  {
   "cell_type": "markdown",
   "metadata": {
    "ein.tags": [
     "worksheet-0"
    ],
    "slideshow": {
     "slide_type": "-"
    }
   },
   "source": [
    "### 2.6 Difference-in-Difference, version 2\n",
    "\n",
    "In the previous problem, you estimated a difference-in-differences model that compared changes in enrollment rates over time across treatment and control villages. An alternative approach would be to compare enrollment rates in 1998 between poor and non-poor across treatment and control villages. \n",
    "\n",
    "* How would we estimate this version of the treatment effects in a regression model? \n",
    "* What is the counterfactual assumption underlying this regression?\n",
    "* How do these treatment effects compare to the estimates above?\n",
    "* Discuss some possible explanations for differences or similarities "
   ]
  },
  {
   "cell_type": "code",
   "execution_count": 96,
   "metadata": {
    "autoscroll": "json-false",
    "collapsed": false,
    "ein.tags": [
     "worksheet-0"
    ],
    "slideshow": {
     "slide_type": "-"
    }
   },
   "outputs": [
    {
     "data": {
      "text/html": [
       "<table class=\"simpletable\">\n",
       "<caption>OLS Regression Results</caption>\n",
       "<tr>\n",
       "  <th>Dep. Variable:</th>           <td>sc</td>        <th>  R-squared:         </th> <td>   0.269</td> \n",
       "</tr>\n",
       "<tr>\n",
       "  <th>Model:</th>                   <td>OLS</td>       <th>  Adj. R-squared:    </th> <td>   0.268</td> \n",
       "</tr>\n",
       "<tr>\n",
       "  <th>Method:</th>             <td>Least Squares</td>  <th>  F-statistic:       </th> <td>   1174.</td> \n",
       "</tr>\n",
       "<tr>\n",
       "  <th>Date:</th>             <td>Tue, 02 May 2017</td> <th>  Prob (F-statistic):</th>  <td>  0.00</td>  \n",
       "</tr>\n",
       "<tr>\n",
       "  <th>Time:</th>                 <td>02:48:28</td>     <th>  Log-Likelihood:    </th> <td> -9333.9</td> \n",
       "</tr>\n",
       "<tr>\n",
       "  <th>No. Observations:</th>      <td> 31975</td>      <th>  AIC:               </th> <td>1.869e+04</td>\n",
       "</tr>\n",
       "<tr>\n",
       "  <th>Df Residuals:</th>          <td> 31964</td>      <th>  BIC:               </th> <td>1.878e+04</td>\n",
       "</tr>\n",
       "<tr>\n",
       "  <th>Df Model:</th>              <td>    10</td>      <th>                     </th>     <td> </td>    \n",
       "</tr>\n",
       "<tr>\n",
       "  <th>Covariance Type:</th>      <td>nonrobust</td>    <th>                     </th>     <td> </td>    \n",
       "</tr>\n",
       "</table>\n",
       "<table class=\"simpletable\">\n",
       "<tr>\n",
       "                 <td></td>                    <th>coef</th>     <th>std err</th>      <th>t</th>      <th>P>|t|</th> <th>[95.0% Conf. Int.]</th> \n",
       "</tr>\n",
       "<tr>\n",
       "  <th>Intercept</th>                       <td>    1.5527</td> <td>    0.013</td> <td>  120.252</td> <td> 0.000</td> <td>    1.527     1.578</td>\n",
       "</tr>\n",
       "<tr>\n",
       "  <th>progresa[T.basal]</th>               <td>    0.0259</td> <td>    0.010</td> <td>    2.663</td> <td> 0.008</td> <td>    0.007     0.045</td>\n",
       "</tr>\n",
       "<tr>\n",
       "  <th>poor[T.pobre]</th>                   <td>   -0.0149</td> <td>    0.008</td> <td>   -1.804</td> <td> 0.071</td> <td>   -0.031     0.001</td>\n",
       "</tr>\n",
       "<tr>\n",
       "  <th>progresa[T.basal]:poor[T.pobre]</th> <td>    0.0096</td> <td>    0.011</td> <td>    0.913</td> <td> 0.362</td> <td>   -0.011     0.030</td>\n",
       "</tr>\n",
       "<tr>\n",
       "  <th>age</th>                             <td>   -0.0659</td> <td>    0.001</td> <td> -102.986</td> <td> 0.000</td> <td>   -0.067    -0.065</td>\n",
       "</tr>\n",
       "<tr>\n",
       "  <th>dist_sec</th>                        <td>   -0.0121</td> <td>    0.001</td> <td>  -14.591</td> <td> 0.000</td> <td>   -0.014    -0.010</td>\n",
       "</tr>\n",
       "<tr>\n",
       "  <th>sex</th>                             <td>    0.0310</td> <td>    0.004</td> <td>    8.540</td> <td> 0.000</td> <td>    0.024     0.038</td>\n",
       "</tr>\n",
       "<tr>\n",
       "  <th>hohedu</th>                          <td>    0.0092</td> <td>    0.001</td> <td>   12.967</td> <td> 0.000</td> <td>    0.008     0.011</td>\n",
       "</tr>\n",
       "<tr>\n",
       "  <th>indig</th>                           <td>    0.0472</td> <td>    0.004</td> <td>   11.718</td> <td> 0.000</td> <td>    0.039     0.055</td>\n",
       "</tr>\n",
       "<tr>\n",
       "  <th>fam_n</th>                           <td>   -0.0015</td> <td>    0.001</td> <td>   -1.852</td> <td> 0.064</td> <td>   -0.003  8.56e-05</td>\n",
       "</tr>\n",
       "<tr>\n",
       "  <th>hohwag</th>                          <td>-1.379e-07</td> <td> 2.39e-06</td> <td>   -0.058</td> <td> 0.954</td> <td>-4.81e-06  4.54e-06</td>\n",
       "</tr>\n",
       "</table>\n",
       "<table class=\"simpletable\">\n",
       "<tr>\n",
       "  <th>Omnibus:</th>       <td>3218.612</td> <th>  Durbin-Watson:     </th> <td>   1.721</td>\n",
       "</tr>\n",
       "<tr>\n",
       "  <th>Prob(Omnibus):</th>  <td> 0.000</td>  <th>  Jarque-Bera (JB):  </th> <td>4302.106</td>\n",
       "</tr>\n",
       "<tr>\n",
       "  <th>Skew:</th>           <td>-0.897</td>  <th>  Prob(JB):          </th> <td>    0.00</td>\n",
       "</tr>\n",
       "<tr>\n",
       "  <th>Kurtosis:</th>       <td> 3.119</td>  <th>  Cond. No.          </th> <td>9.48e+03</td>\n",
       "</tr>\n",
       "</table>"
      ],
      "text/plain": [
       "<class 'statsmodels.iolib.summary.Summary'>\n",
       "\"\"\"\n",
       "                            OLS Regression Results                            \n",
       "==============================================================================\n",
       "Dep. Variable:                     sc   R-squared:                       0.269\n",
       "Model:                            OLS   Adj. R-squared:                  0.268\n",
       "Method:                 Least Squares   F-statistic:                     1174.\n",
       "Date:                Tue, 02 May 2017   Prob (F-statistic):               0.00\n",
       "Time:                        02:48:28   Log-Likelihood:                -9333.9\n",
       "No. Observations:               31975   AIC:                         1.869e+04\n",
       "Df Residuals:                   31964   BIC:                         1.878e+04\n",
       "Df Model:                          10                                         \n",
       "Covariance Type:            nonrobust                                         \n",
       "===================================================================================================\n",
       "                                      coef    std err          t      P>|t|      [95.0% Conf. Int.]\n",
       "---------------------------------------------------------------------------------------------------\n",
       "Intercept                           1.5527      0.013    120.252      0.000         1.527     1.578\n",
       "progresa[T.basal]                   0.0259      0.010      2.663      0.008         0.007     0.045\n",
       "poor[T.pobre]                      -0.0149      0.008     -1.804      0.071        -0.031     0.001\n",
       "progresa[T.basal]:poor[T.pobre]     0.0096      0.011      0.913      0.362        -0.011     0.030\n",
       "age                                -0.0659      0.001   -102.986      0.000        -0.067    -0.065\n",
       "dist_sec                           -0.0121      0.001    -14.591      0.000        -0.014    -0.010\n",
       "sex                                 0.0310      0.004      8.540      0.000         0.024     0.038\n",
       "hohedu                              0.0092      0.001     12.967      0.000         0.008     0.011\n",
       "indig                               0.0472      0.004     11.718      0.000         0.039     0.055\n",
       "fam_n                              -0.0015      0.001     -1.852      0.064        -0.003  8.56e-05\n",
       "hohwag                          -1.379e-07   2.39e-06     -0.058      0.954     -4.81e-06  4.54e-06\n",
       "==============================================================================\n",
       "Omnibus:                     3218.612   Durbin-Watson:                   1.721\n",
       "Prob(Omnibus):                  0.000   Jarque-Bera (JB):             4302.106\n",
       "Skew:                          -0.897   Prob(JB):                         0.00\n",
       "Kurtosis:                       3.119   Cond. No.                     9.48e+03\n",
       "==============================================================================\n",
       "\n",
       "Warnings:\n",
       "[1] Standard Errors assume that the covariance matrix of the errors is correctly specified.\n",
       "[2] The condition number is large, 9.48e+03. This might indicate that there are\n",
       "strong multicollinearity or other numerical problems.\n",
       "\"\"\""
      ]
     },
     "execution_count": 96,
     "metadata": {},
     "output_type": "execute_result"
    }
   ],
   "source": [
    "#In 1998 across status(poor/non poor) in control and treatment villages\n",
    "progresad2_df=pd.DataFrame(progresa_df.where((progresa_df['year']==98)))\n",
    "lm=sm.ols(formula='sc~progresa*poor+poor+age+dist_sec+sex+hohedu+indig+fam_n+hohwag',data=progresad2_df).fit()\n",
    "lm.summary()"
   ]
  },
  {
   "cell_type": "markdown",
   "metadata": {},
   "source": []
  },
  {
   "cell_type": "markdown",
   "metadata": {},
   "source": [
    "1. How would we estimate this version of the treatment effects in a regression model?\n",
    "Here we consider the co-eff value of progresa:ppor which ia 0.009 or 0.9%. The impact of progresa on the enrollment rates between poor and non-poor is close 1%.It has a standard error of 0.011. We can interpret this as there is minimal impact of progresa on enrollment between poor and non poor families.Given the p value, this impact can be taken as insignificant.\n",
    "2. What is the counterfactual assumption underlying this regression?\n",
    "The alternate or counterfactual statment is that progresa had a significant impact on enrollment rate in poor families in comparison to non poor families.\n",
    "3. How do these treatment effects compare to the estimates above?\n",
    "Our earlier estimates between poor families in treatment and control villages indicated that progressa increases enrollment rates between the poor.However, this result tells us that progresa does not influence the enrollment rate growth between poor and non-poor. That is rate at which enrollment increase is same between poor and non-poor and progresa does not increase it drastically for the poor.\n",
    "4. Discuss some possible explanations for differences or similarities\n",
    "It could be that non poor have the resources to enroll children in schools and the rate at which the poor enroll is not drastically improved by availing progresa. It could be due to the cost of progresa on these families.(The price of\n",
    "schooling is then this shadow wage of the child minus any Progresa school subsidy, plus any direct costs of attending school, such as special school clothing or uniforms, books\n",
    "and materials, and transportation costs.)"
   ]
  },
  {
   "cell_type": "markdown",
   "metadata": {
    "ein.tags": [
     "worksheet-0"
    ],
    "slideshow": {
     "slide_type": "-"
    }
   },
   "source": [
    "### 2.7 Spillover effects (extra credit)\n",
    "\n",
    "Thus far, we have focused on the impact of PROGRESA on poor households. Repeat your analysis in 2.5, using a double-difference regression to estimate the impact of PROGRESA on non-poor households. In other words, compare the difference in enrollments between 1997 and 1998 for non-poor households in treatment villages with the difference in enrollments between 1997 and 1998 for non-poor households in control villages.\n",
    "\n",
    "* A: Describe one or two reasons why PROGRESA might have impacted non-poor households.\n",
    "* B: Do you observe any impacts of PROGRESA on the non-poor?\n",
    "* C: What is the identifying assumption that you are using to estimate the impact of PROGRESA on non-poor households."
   ]
  },
  {
   "cell_type": "code",
   "execution_count": 209,
   "metadata": {
    "autoscroll": "json-false",
    "collapsed": false,
    "ein.tags": [
     "worksheet-0"
    ],
    "slideshow": {
     "slide_type": "-"
    }
   },
   "outputs": [
    {
     "data": {
      "text/html": [
       "<table class=\"simpletable\">\n",
       "<caption>OLS Regression Results</caption>\n",
       "<tr>\n",
       "  <th>Dep. Variable:</th>           <td>sc</td>        <th>  R-squared:         </th> <td>   0.280</td>\n",
       "</tr>\n",
       "<tr>\n",
       "  <th>Model:</th>                   <td>OLS</td>       <th>  Adj. R-squared:    </th> <td>   0.279</td>\n",
       "</tr>\n",
       "<tr>\n",
       "  <th>Method:</th>             <td>Least Squares</td>  <th>  F-statistic:       </th> <td>   447.7</td>\n",
       "</tr>\n",
       "<tr>\n",
       "  <th>Date:</th>             <td>Tue, 02 May 2017</td> <th>  Prob (F-statistic):</th>  <td>  0.00</td> \n",
       "</tr>\n",
       "<tr>\n",
       "  <th>Time:</th>                 <td>14:27:43</td>     <th>  Log-Likelihood:    </th> <td> -3727.8</td>\n",
       "</tr>\n",
       "<tr>\n",
       "  <th>No. Observations:</th>      <td> 10378</td>      <th>  AIC:               </th> <td>   7476.</td>\n",
       "</tr>\n",
       "<tr>\n",
       "  <th>Df Residuals:</th>          <td> 10368</td>      <th>  BIC:               </th> <td>   7548.</td>\n",
       "</tr>\n",
       "<tr>\n",
       "  <th>Df Model:</th>              <td>     9</td>      <th>                     </th>     <td> </td>   \n",
       "</tr>\n",
       "<tr>\n",
       "  <th>Covariance Type:</th>      <td>nonrobust</td>    <th>                     </th>     <td> </td>   \n",
       "</tr>\n",
       "</table>\n",
       "<table class=\"simpletable\">\n",
       "<tr>\n",
       "             <td></td>               <th>coef</th>     <th>std err</th>      <th>t</th>      <th>P>|t|</th> <th>[95.0% Conf. Int.]</th> \n",
       "</tr>\n",
       "<tr>\n",
       "  <th>Intercept</th>              <td>   -2.2124</td> <td>    1.057</td> <td>   -2.093</td> <td> 0.036</td> <td>   -4.284    -0.141</td>\n",
       "</tr>\n",
       "<tr>\n",
       "  <th>progresa[T.basal]</th>      <td>    0.1885</td> <td>    1.363</td> <td>    0.138</td> <td> 0.890</td> <td>   -2.482     2.860</td>\n",
       "</tr>\n",
       "<tr>\n",
       "  <th>year</th>                   <td>    0.0396</td> <td>    0.011</td> <td>    3.649</td> <td> 0.000</td> <td>    0.018     0.061</td>\n",
       "</tr>\n",
       "<tr>\n",
       "  <th>progresa[T.basal]:year</th> <td>   -0.0017</td> <td>    0.014</td> <td>   -0.119</td> <td> 0.905</td> <td>   -0.029     0.026</td>\n",
       "</tr>\n",
       "<tr>\n",
       "  <th>age</th>                    <td>   -0.0697</td> <td>    0.001</td> <td>  -61.641</td> <td> 0.000</td> <td>   -0.072    -0.067</td>\n",
       "</tr>\n",
       "<tr>\n",
       "  <th>dist_sec</th>               <td>   -0.0172</td> <td>    0.002</td> <td>   -9.709</td> <td> 0.000</td> <td>   -0.021    -0.014</td>\n",
       "</tr>\n",
       "<tr>\n",
       "  <th>sex</th>                    <td>    0.0306</td> <td>    0.007</td> <td>    4.488</td> <td> 0.000</td> <td>    0.017     0.044</td>\n",
       "</tr>\n",
       "<tr>\n",
       "  <th>indig</th>                  <td>    0.0488</td> <td>    0.010</td> <td>    4.816</td> <td> 0.000</td> <td>    0.029     0.069</td>\n",
       "</tr>\n",
       "<tr>\n",
       "  <th>fam_n</th>                  <td>   -0.0081</td> <td>    0.001</td> <td>   -5.606</td> <td> 0.000</td> <td>   -0.011    -0.005</td>\n",
       "</tr>\n",
       "<tr>\n",
       "  <th>hohsex</th>                 <td>    0.0197</td> <td>    0.014</td> <td>    1.424</td> <td> 0.154</td> <td>   -0.007     0.047</td>\n",
       "</tr>\n",
       "</table>\n",
       "<table class=\"simpletable\">\n",
       "<tr>\n",
       "  <th>Omnibus:</th>       <td>844.887</td> <th>  Durbin-Watson:     </th> <td>   1.482</td> \n",
       "</tr>\n",
       "<tr>\n",
       "  <th>Prob(Omnibus):</th> <td> 0.000</td>  <th>  Jarque-Bera (JB):  </th> <td> 832.796</td> \n",
       "</tr>\n",
       "<tr>\n",
       "  <th>Skew:</th>          <td>-0.639</td>  <th>  Prob(JB):          </th> <td>1.45e-181</td>\n",
       "</tr>\n",
       "<tr>\n",
       "  <th>Kurtosis:</th>      <td> 2.458</td>  <th>  Cond. No.          </th> <td>5.63e+04</td> \n",
       "</tr>\n",
       "</table>"
      ],
      "text/plain": [
       "<class 'statsmodels.iolib.summary.Summary'>\n",
       "\"\"\"\n",
       "                            OLS Regression Results                            \n",
       "==============================================================================\n",
       "Dep. Variable:                     sc   R-squared:                       0.280\n",
       "Model:                            OLS   Adj. R-squared:                  0.279\n",
       "Method:                 Least Squares   F-statistic:                     447.7\n",
       "Date:                Tue, 02 May 2017   Prob (F-statistic):               0.00\n",
       "Time:                        14:27:43   Log-Likelihood:                -3727.8\n",
       "No. Observations:               10378   AIC:                             7476.\n",
       "Df Residuals:                   10368   BIC:                             7548.\n",
       "Df Model:                           9                                         \n",
       "Covariance Type:            nonrobust                                         \n",
       "==========================================================================================\n",
       "                             coef    std err          t      P>|t|      [95.0% Conf. Int.]\n",
       "------------------------------------------------------------------------------------------\n",
       "Intercept                 -2.2124      1.057     -2.093      0.036        -4.284    -0.141\n",
       "progresa[T.basal]          0.1885      1.363      0.138      0.890        -2.482     2.860\n",
       "year                       0.0396      0.011      3.649      0.000         0.018     0.061\n",
       "progresa[T.basal]:year    -0.0017      0.014     -0.119      0.905        -0.029     0.026\n",
       "age                       -0.0697      0.001    -61.641      0.000        -0.072    -0.067\n",
       "dist_sec                  -0.0172      0.002     -9.709      0.000        -0.021    -0.014\n",
       "sex                        0.0306      0.007      4.488      0.000         0.017     0.044\n",
       "indig                      0.0488      0.010      4.816      0.000         0.029     0.069\n",
       "fam_n                     -0.0081      0.001     -5.606      0.000        -0.011    -0.005\n",
       "hohsex                     0.0197      0.014      1.424      0.154        -0.007     0.047\n",
       "==============================================================================\n",
       "Omnibus:                      844.887   Durbin-Watson:                   1.482\n",
       "Prob(Omnibus):                  0.000   Jarque-Bera (JB):              832.796\n",
       "Skew:                          -0.639   Prob(JB):                    1.45e-181\n",
       "Kurtosis:                       2.458   Cond. No.                     5.63e+04\n",
       "==============================================================================\n",
       "\n",
       "Warnings:\n",
       "[1] Standard Errors assume that the covariance matrix of the errors is correctly specified.\n",
       "[2] The condition number is large, 5.63e+04. This might indicate that there are\n",
       "strong multicollinearity or other numerical problems.\n",
       "\"\"\""
      ]
     },
     "execution_count": 209,
     "metadata": {},
     "output_type": "execute_result"
    }
   ],
   "source": [
    "temp=pd.DataFrame(progresa_df.loc[:].where((progresa_df.poor==\"no pobre\")))\n",
    "temp.fillna(0);\n",
    "lm=sm.ols(formula='sc~progresa*year+progresa+year+age+dist_sec+sex+indig+fam_n+hohsex',data=temp).fit()\n",
    "lm.summary()"
   ]
  },
  {
   "cell_type": "markdown",
   "metadata": {},
   "source": [
    "A: Describe one or two reasons why PROGRESA might have impacted non-poor households.\n",
    "Progresa might have impacted non poor households to increase enrollment rates because emphasis on education can be realized. Also, more children going to school can create peer pressure to be enrolled in school.\n",
    "B: Do you observe any impacts of PROGRESA on the non-poor?\n",
    "No progresa has no or minimal negative impact on non-poor.\n",
    "C: What is the identifying assumption that you are using to estimate the impact of PROGRESA on non-poor households.\n",
    "The progresa:year coefficient here is a -0.0017 or negative 0.17% with an error rate os 0.014 and a p-value is -0.119."
   ]
  },
  {
   "cell_type": "markdown",
   "metadata": {
    "ein.tags": [
     "worksheet-0"
    ],
    "slideshow": {
     "slide_type": "-"
    }
   },
   "source": [
    "### 2.8 Summary\n",
    "\n",
    "Based on all the analysis you have undertaken to date, do you thik that Progresa had a causal impact on the enrollment rates of poor households in Mexico?"
   ]
  },
  {
   "cell_type": "code",
   "execution_count": 0,
   "metadata": {
    "autoscroll": "json-false",
    "collapsed": false,
    "ein.tags": [
     "worksheet-0"
    ],
    "slideshow": {
     "slide_type": "-"
    }
   },
   "outputs": [],
   "source": [
    "#Here are the findings of the progresa study from our analysis."
   ]
  },
  {
   "cell_type": "markdown",
   "metadata": {},
   "source": [
    "1.There are differences in the demographic details between control and treatment groups.Some of the factors or demographic variables that vary are statistically significant. This tells us that the treatment and control groups are not two equal entities. When a variables such as age, welfare index and distance from capital whicha are considered crucial towards education enrollment vary, the analysis on the data obtained from such groups will be biased.\n",
    "2.Given the statistical difference, we resort to the diff-in-diff method to understand the impact of progresa on poor families in treatment and control villages over the two years 97 and 98. We run linear regressions to predict enrollment over treament and non treatment and estimate 3.8% increase.\n",
    "3.When we factor in other variables such as age, proximity to capital, household wage, household head wage etc, this percentage drops to 3.5%. This estimate has a lower error rate.\n",
    "4.Given that the treatment and control groups had differences, we run diff-in-diff regressions to estimate enrollemnt rate.We understand the impact of progresa on poor over the years(3.1%) and between poor and non-poor(0.9%).We account for multiple demographic variables in this estimation.\n",
    "5.From these results it is safe to say that while progresa seems to increase the enrollment rate among poor (across years and across treatment groups) it does not impact the non poor.So,progresa improves enrollmentrate because the family is poor and has no impact otherwise. It is intended for the poor."
   ]
  }
 ],
 "metadata": {
  "anaconda-cloud": {},
  "kernelspec": {
   "display_name": "Python [conda root]",
   "language": "python",
   "name": "conda-root-py"
  },
  "language_info": {
   "codemirror_mode": {
    "name": "ipython",
    "version": 3
   },
   "file_extension": ".py",
   "mimetype": "text/x-python",
   "name": "python",
   "nbconvert_exporter": "python",
   "pygments_lexer": "ipython3",
   "version": "3.5.2"
  },
  "name": "ps2.ipynb"
 },
 "nbformat": 4,
 "nbformat_minor": 2
}
