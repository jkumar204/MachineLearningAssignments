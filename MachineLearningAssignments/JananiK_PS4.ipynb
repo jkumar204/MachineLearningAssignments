{
 "cells": [
  {
   "cell_type": "markdown",
   "metadata": {
    "ein.tags": [
     "worksheet-0"
    ],
    "slideshow": {
     "slide_type": "-"
    }
   },
   "source": [
    "# Problem Set 4, due '05/23/2017' at 3:30pm.\n",
    "\n",
    "### Before You Start\n",
    "\n",
    "This is a fun but challenging problem set. It will test your python skills, as well as your understanding of the material in class and in the readings. Start early and debug often! Some notes:\n",
    "\n",
    "* Part 1 is meant to be easy, so get through it quickly.\n",
    "* Part 2 (especially 2.1) will be difficult, but it is the lynchpin of this problem set to make sure to do it well and understand what you've done. If you find your gradient descent algorithm is taking more than a few minutes to complete, debug more, compare notes with others, and go to the TA sessions.\n",
    "* Depending on how well you've done 2.1, parts 2.3 and 4.3 will be relatively painless or incredibly painful. \n",
    "* Part 4 (especially 3.3) will be computationally intensive. Don't leave this until the last minute, otherwise your code might be running when the deadline arrives.\n",
    "* Do the extra credit problems last."
   ]
  },
  {
   "cell_type": "markdown",
   "metadata": {
    "ein.tags": [
     "worksheet-0"
    ],
    "slideshow": {
     "slide_type": "-"
    }
   },
   "source": [
    "---\n",
    "\n",
    "## Introduction to the assignment\n",
    "\n",
    "As with the last assignment, you will be using the [Boston Housing Prices Data Set](http://archive.ics.uci.edu/ml/datasets/Housing)."
   ]
  },
  {
   "cell_type": "code",
   "execution_count": 1,
   "metadata": {},
   "outputs": [
    {
     "name": "stdout",
     "output_type": "stream",
     "text": [
      "0.18.1\n"
     ]
    }
   ],
   "source": [
    "import sklearn\n",
    "print (sklearn.__version__)\n"
   ]
  },
  {
   "cell_type": "code",
   "execution_count": 2,
   "metadata": {
    "autoscroll": "json-false",
    "collapsed": true,
    "ein.tags": [
     "worksheet-0"
    ],
    "slideshow": {
     "slide_type": "-"
    }
   },
   "outputs": [],
   "source": [
    "import IPython\n",
    "import numpy as np\n",
    "import scipy as sp\n",
    "import pandas as pd\n",
    "import matplotlib\n",
    "import sklearn\n",
    "\n",
    "%matplotlib inline  \n",
    "import matplotlib.pyplot as plt\n",
    "import statsmodels.api as sm\n",
    "from sklearn.linear_model import LinearRegression, LogisticRegression\n",
    "from sklearn.metrics import mean_squared_error\n",
    "import statsmodels.formula.api as smf\n",
    "from sklearn.model_selection import KFold\n",
    "from sklearn.metrics import mean_squared_error\n",
    "from statsmodels.sandbox.regression.predstd import wls_prediction_std\n",
    "import time"
   ]
  },
  {
   "cell_type": "code",
   "execution_count": 3,
   "metadata": {
    "autoscroll": "json-false",
    "collapsed": true,
    "ein.tags": [
     "worksheet-0"
    ],
    "slideshow": {
     "slide_type": "-"
    }
   },
   "outputs": [],
   "source": [
    "from sklearn.datasets import load_boston\n",
    "bdata = load_boston()\n"
   ]
  },
  {
   "cell_type": "markdown",
   "metadata": {
    "ein.tags": [
     "worksheet-0"
    ],
    "slideshow": {
     "slide_type": "-"
    }
   },
   "source": [
    "---\n",
    "\n",
    "## Part 1: Getting oriented\n",
    "\n",
    "Use different learning rates\n",
    "\n",
    "### 1.1 Use existing libraries\n",
    "\n",
    "Soon, you will write your own gradient descent algorithm, which you will then use to minimize the squared error cost function.  First, however, let's use the canned versions that come with Python, to make sure we understand what we're aiming to achieve.\n",
    "\n",
    "Using the same Boston housing prices dataset, use the [Linear Regression class](http://scikit-learn.org/stable/modules/generated/sklearn.linear_model.LinearRegression.html) from sklearn or the [OLS class](http://wiki.scipy.org/Cookbook/OLS) from SciPy to explore the relationship between  median housing price and number of rooms per house. Do this by first (a) regressing the housing price on the number of rooms per house, and then (b) regressing the housing price on the number of rooms per house and the (number of rooms per house) squared.  Interpret your results."
   ]
  },
  {
   "cell_type": "code",
   "execution_count": 230,
   "metadata": {
    "autoscroll": "json-false",
    "ein.tags": [
     "worksheet-0"
    ],
    "slideshow": {
     "slide_type": "-"
    }
   },
   "outputs": [
    {
     "name": "stdout",
     "output_type": "stream",
     "text": [
      "data shape: (506, 13)\n",
      "(506, 14)\n",
      "Coef of housing price on number of rooms: [ 9.10210898]\n",
      "intercept of housing price on number of rooms: -34.6706207764\n"
     ]
    },
    {
     "data": {
      "image/png": "[encoded data removed]",
      "text/plain": [
       "<matplotlib.figure.Figure at 0x1f481e654e0>"
      ]
     },
     "metadata": {},
     "output_type": "display_data"
    },
    {
     "name": "stdout",
     "output_type": "stream",
     "text": [
      "Coef of housing price on number of rooms and square the number of rooms: [-22.64326237   2.47012384]\n",
      "intercept of housing price on number of rooms and square the number of rooms: 66.0588474846\n"
     ]
    }
   ],
   "source": [
    "# uncomment the following if you want to see a lengthy description of the dataset\n",
    "# print \"keys:\", bdata.keys()\n",
    "# print \"feature names:\",  bdata.feature_names\n",
    "print (\"data shape:\", bdata.data.shape)\n",
    "# print \"target shape\", bdata.target.shape\n",
    "#print (bdata.DESCR)\n",
    "# print \"-\"*80\n",
    "bdata_df = pd.DataFrame(data= np.c_[bdata['data'],bdata['target']],\n",
    "                        columns=np.append(bdata['feature_names'],['target']))\n",
    "bdata_m = bdata_df.as_matrix()\n",
    "#regressing the housing price on the number of rooms per house.\n",
    "model=LinearRegression()\n",
    "print(bdata_m.shape)\n",
    "X=bdata_m[:,5]\n",
    "Y=bdata_m[:,13]\n",
    "#print(X.shape)\n",
    "#print(Y.shape)\n",
    "model.fit(X.reshape(len(X),1),Y.reshape(len(Y),1))\n",
    "#print (\"residuals\",model.residues_)\n",
    "plt.scatter(X,Y,color='blue')\n",
    "print(\"Coef of housing price on number of rooms:\",model.coef_)\n",
    "print(\"intercept of housing price on number of rooms:\",model.intercept_)\n",
    "\n",
    "#regressing the housing price on the number of rooms per house squared\n",
    "model=LinearRegression()\n",
    "X=bdata_m[:,[5,5]]\n",
    "Y=bdata_m[:,13]\n",
    "X[:,1]=X[:,1]*X[:,1]\n",
    "model.fit(X.reshape(len(X),2),Y.reshape(len(Y),1))\n",
    "#print (\"residuals:\",model.residues_)\n",
    "plt.show()\n",
    "#plt.scatter(X,Y,color='black')\n",
    "print(\"Coef of housing price on number of rooms and square the number of rooms:\",model.coef_)\n",
    "print(\"intercept of housing price on number of rooms and square the number of rooms:\",model.intercept_)\n"
   ]
  },
  {
   "cell_type": "markdown",
   "metadata": {},
   "source": [
    "From the intercept we can conclude that housing price is dependent on the number of rooms in the house heavily. If the number of room in the house increases by one, the price of the house increase by 9 times. Another interpretation is if the housing price goes up by 2 times if number of rooms in the house is multiplied by itself."
   ]
  },
  {
   "cell_type": "markdown",
   "metadata": {
    "ein.tags": [
     "worksheet-0"
    ],
    "slideshow": {
     "slide_type": "-"
    }
   },
   "source": [
    "### 1.2 Training and testing\n",
    "\n",
    "Chances are, for the above problem you used all of your data to fit the regression line. In some circumstances this is a reasonable thing to do, but often this will result in overfitting. Let's redo the above results the ML way, using careful cross-validation.  Since you are now experts in cross-validation, and have written your own cross-validation algorithm from scratch, you can now take a shortcut and use the libraries that others have built for you.\n",
    "\n",
    "Using the [cross-validation functions](http://scikit-learn.org/stable/modules/cross_validation.html) from scikit-learn, use 250-fold cross-validation to fit regression (a) above, i.e. the linear fit of housing price on number of rooms per house.\n",
    "Each fold of cross-validation will give you one slope coefficient and one intercept coefficient.  Plot the distribution of the 250 slope coefficients, and draw a vertical line at the value of the slope coefficient that you estimated in 1.1 using the full dataset.  What do you notice?\n",
    "\n",
    "Note: please use 'random_state=1' and keep 'shuffle=False' when doing the KFold splitting to ensure reproducibility!"
   ]
  },
  {
   "cell_type": "code",
   "execution_count": 204,
   "metadata": {
    "autoscroll": "json-false",
    "ein.tags": [
     "worksheet-0"
    ],
    "slideshow": {
     "slide_type": "-"
    }
   },
   "outputs": [
    {
     "name": "stdout",
     "output_type": "stream",
     "text": [
      "KFold(n_splits=250, random_state=1, shuffle=False)\n",
      "Accuracy: -271.37 (+/- 2658.19)\n",
      "(250, 1)\n"
     ]
    },
    {
     "data": {
      "text/plain": [
       "<matplotlib.collections.PathCollection at 0x1f481d93278>"
      ]
     },
     "execution_count": 204,
     "metadata": {},
     "output_type": "execute_result"
    },
    {
     "data": {
      "image/png": "[encoded data removed]",
      "text/plain": [
       "<matplotlib.figure.Figure at 0x1f481d32f60>"
      ]
     },
     "metadata": {},
     "output_type": "display_data"
    }
   ],
   "source": [
    "from sklearn.model_selection import cross_val_score\n",
    "kf = KFold(n_splits=250,shuffle=False,random_state=1)\n",
    "print (kf)\n",
    "slope=np.ndarray(shape=(250,1))\n",
    "intercept=np.ndarray(shape=(250,1))\n",
    "model1=LinearRegression()\n",
    "model2=LinearRegression()\n",
    "i=0;\n",
    "X=bdata_m[:,5]\n",
    "Y=bdata_m[:,13]\n",
    "scores = cross_val_score(model1, X.reshape(len(X),1),Y.reshape(len(Y),1), cv=250)\n",
    "#print (scores)\n",
    "print(\"Accuracy: %0.2f (+/- %0.2f)\" % (scores.mean(), scores.std() * 2))\n",
    "#plotting values for each fold\n",
    "for train, test in kf.split(bdata_df): \n",
    "    #print(train)\n",
    "    #print(test)\n",
    "    X_train=(bdata_m[[train],5])\n",
    "    Y_train=(bdata_m[[train],13])\n",
    "    model2.fit(X.reshape(len(X),1),Y.reshape(len(Y),1))\n",
    "    #print(model2.coef_)\n",
    "    #print(model2.intercept_)\n",
    "    slope[i]=model2.coef_\n",
    "    intercept[i]=model2.intercept_\n",
    "    i=i+1\n",
    "#print(i)\n",
    "slope=np.matrix(slope)\n",
    "y= [i for i in range(250)]\n",
    "y=np.matrix(y)\n",
    "print(slope.shape)\n",
    "y=y.T\n",
    "plt.scatter(slope,y,color='blue')\n",
    "#print(slope)\n",
    "\n",
    "\n"
   ]
  },
  {
   "cell_type": "markdown",
   "metadata": {
    "ein.tags": [
     "worksheet-0"
    ],
    "slideshow": {
     "slide_type": "-"
    }
   },
   "source": [
    "### 1.3 Regression lines\n",
    "\n",
    "Create a scatterplot of housing price on rooms per house, and add the two regression lines from 1.1 (or 1.2 if you prefer to do so). Show the linear regression line in red, and the linear+quadratic regression line (which may have curvature) in blue.  Label these two regression lines with the corresponding regression equations (i.e. the slope and intercept of the line).\n",
    "\n",
    "Bonus: Add the 95% confidence bands (i.e.,  the area that has a 95% chance of containing the true regression line) to each of these lines."
   ]
  },
  {
   "cell_type": "code",
   "execution_count": 226,
   "metadata": {
    "autoscroll": "json-false",
    "ein.tags": [
     "worksheet-0"
    ],
    "slideshow": {
     "slide_type": "-"
    }
   },
   "outputs": [
    {
     "name": "stdout",
     "output_type": "stream",
     "text": [
      "(506, 14)\n"
     ]
    },
    {
     "data": {
      "text/plain": [
       "LinearRegression(copy_X=True, fit_intercept=True, n_jobs=1, normalize=False)"
      ]
     },
     "execution_count": 226,
     "metadata": {},
     "output_type": "execute_result"
    },
    {
     "data": {
      "image/png": "[encoded data removed]",
      "text/plain": [
       "<matplotlib.figure.Figure at 0x1f481016cc0>"
      ]
     },
     "metadata": {},
     "output_type": "display_data"
    }
   ],
   "source": [
    "import seaborn as sns\n",
    "model=LinearRegression()\n",
    "print(bdata_m.shape)\n",
    "X=bdata_m[:,5]\n",
    "Y=bdata_m[:,13]\n",
    "#print(X.shape)\n",
    "#print(Y.shape)\n",
    "model.fit(X.reshape(len(X),1),Y.reshape(len(Y),1))\n",
    "#print (model.residues_)\n",
    "#preds=model.predict(Y)\n",
    "plt.scatter(X,Y,color='black')\n",
    "sns.regplot(X, Y,color='red');\n",
    "\n",
    "#regressing the housing price on the number of rooms per house squared\n",
    "model2=LinearRegression()\n",
    "X=bdata_m[:,[5,5]]\n",
    "Y=bdata_m[:,13]\n",
    "x=X[:,1]=X[:,1]*X[:,1]\n",
    "model2.fit(X.reshape(len(X),2),Y.reshape(len(Y),1))\n",
    "#plt.plot(x,model2.predict(Y))\n",
    "#plt.scatter(X,Y,color='black')\n"
   ]
  },
  {
   "cell_type": "markdown",
   "metadata": {
    "ein.tags": [
     "worksheet-0"
    ],
    "slideshow": {
     "slide_type": "-"
    }
   },
   "source": [
    "## Part 2: Gradient descent: Linear Regression\n",
    "\n",
    "This is where it gets fun!\n",
    "\n",
    "### 2.1 Implement gradient descent with one independent variable (Average rooms per house)\n",
    "\n",
    "Implement the batch gradient descent algorithm that we discussed in class. Use the version you implement to regress the housing price on the number of rooms per house. Experiment with 3-4 different values of the learning rate *R*, and do the following:\n",
    "\n",
    "* Report the values of alpha and beta that minimize the loss function\n",
    "* Report the number of iterations it takes for your algorithm to converge (for each value of *R*)\n",
    "* Report the total running time of your algorithm, in seconds\n",
    "\n",
    "Some skeleton code is provided below, but you should feel free to delete this code and start from scratch if you prefer.\n",
    "\n",
    "* *Hint 1: Don't forget to implement a stopping condition, so that at every iteration you check whether your results have converged. Common approaches to this are to (a) check to see if the loss has stopped decreasing; and (b) check if both your current parameter esimates are close to the estimates from the previous iteration.  In both cases, \"close\" should not be ==0, it should be <=epsilon, where epsilon is something very small (like 0.0001).*\n",
    "* *Hint 2: It is always useful to include maximum number of iterations, otherwise a rogue estimation may go on forever.*"
   ]
  },
  {
   "cell_type": "code",
   "execution_count": 234,
   "metadata": {
    "autoscroll": "json-false",
    "ein.tags": [
     "worksheet-0"
    ],
    "slideshow": {
     "slide_type": "-"
    }
   },
   "outputs": [
    {
     "name": "stdout",
     "output_type": "stream",
     "text": [
      "time : 0.0\n",
      "Convergence True\n",
      "No of iterations 705\n",
      "slope: 0.0073101209934\n",
      "intercept: 0.713560881706\n",
      "time : 0.0\n",
      "Convergence True\n",
      "No of iterations 64\n",
      "slope: 0.00731012200047\n",
      "intercept: 0.713561439674\n",
      "time : 0.0\n",
      "Convergence True\n",
      "No of iterations 1\n",
      "slope: 2.14840497125e-05\n",
      "intercept: 23.9257736897\n"
     ]
    }
   ],
   "source": [
    "\"\"\"\n",
    "    Function\n",
    "    --------\n",
    "    bivariate_ols: Gradient Decent to minimize OLS. Used to find coefficients of bivariate OLS Linear regression\n",
    "\n",
    "    Parameters\n",
    "    ----------\n",
    "    xvalues, yvalues : narray xvalues: independent variable; yvalues: dependent variable\n",
    "    R: float, Learning rate\n",
    "    MaxIterations: Int, maximum number of iterations\n",
    "\n",
    "    Returns\n",
    "    -------\n",
    "    alpha: float, intercept\n",
    "    beta: float, co-efficient\n",
    "    ttaken: time taken\n",
    "    it: number of iterations\n",
    "    convergence: logical, convergence achieved?\n",
    "\"\"\"\n",
    "\n",
    "np.seterr(all='ignore')\n",
    "\n",
    "X=bdata_m[:,5]\n",
    "Y=bdata_m[:,13]\n",
    "def bivariate_ols(X,Y,R,MaxIterations):\n",
    "    N=len(X)\n",
    "    it=0\n",
    "    cost=0\n",
    "    convergence=False\n",
    "    tolerance=0.02\n",
    "   \n",
    "    coef=[0,0]\n",
    "    beta=np.zeros((506,1))\n",
    "    gradient=0\n",
    "    for i in range(MaxIterations):\n",
    "        start_time = time.time()\n",
    "        h=np.dot(X,beta)\n",
    "        l=h-Y\n",
    "        g1=gradient #gradient from previous iteration\n",
    "        cost=np.asscalar(np.matmul(l.T, l))\n",
    "        gradient=np.dot(l.T,X)/N\n",
    "        g2=gradient\n",
    "        beta=beta-R*gradient\n",
    "        coef[0]=np.average(l)\n",
    "        coef[1]=np.average(beta)\n",
    "        if ((g2-g1)==0):\n",
    "            convergence=True\n",
    "        if(g2>(-9.82e-05)):\n",
    "            convergence=True\n",
    "            total_t = float(round(time.time() - start_time,2))\n",
    "            print(\"time :\",total_t)\n",
    "            return beta,l,i,convergence,coef\n",
    "    coef[0]=np.average(l)\n",
    "    coef[1]=np.average(beta)\n",
    "    total_t = float(round(time.time() - start_time,6))\n",
    "    print(\"time :\",total_t)\n",
    "    return beta,l,i,convergence,coef\n",
    "slope,intercept,iterations,convergence,coef=bivariate_ols(X,Y,0.000001,1000)\n",
    "print (\"Convergence\",convergence)\n",
    "print (\"No of iterations\",iterations)\n",
    "print (\"slope:\",coef[1])\n",
    "print (\"intercept:\",coef[0])\n",
    "\n",
    "slope,intercept,iterations,convergence,coef=bivariate_ols(X,Y,0.00001,1000)\n",
    "print (\"Convergence\",convergence)\n",
    "print (\"No of iterations\",iterations)\n",
    "print (\"slope:\",coef[1])\n",
    "print (\"intercept:\",coef[0])\n",
    "\n",
    "slope,intercept,iterations,convergence,coef=bivariate_ols(X,Y,0.0001,1000)\n",
    "print (\"Convergence\",convergence)\n",
    "print (\"No of iterations\",iterations)\n",
    "print (\"slope:\",coef[1])\n",
    "print (\"intercept:\",coef[0])\n"
   ]
  },
  {
   "cell_type": "markdown",
   "metadata": {
    "ein.tags": [
     "worksheet-0"
    ],
    "slideshow": {
     "slide_type": "-"
    }
   },
   "source": [
    "### 2.2 Data normalization (done for you!)\n",
    "\n",
    "Soon, you will implement a version of gradient descent that can use an arbitrary number of independent variables. Before doing this, we want to give you some code in case you want to standardize your features."
   ]
  },
  {
   "cell_type": "code",
   "execution_count": 8,
   "metadata": {
    "autoscroll": "json-false",
    "collapsed": true,
    "ein.tags": [
     "worksheet-0"
    ],
    "slideshow": {
     "slide_type": "-"
    }
   },
   "outputs": [],
   "source": [
    "def standardize(raw_data):\n",
    "    \"\"\"\n",
    "    standardizes raw data and returns\n",
    "    standardized data, mean by column, sd by column\n",
    "    \"\"\"\n",
    "    mu = np.mean(raw_data, axis = 0)\n",
    "    sd = np.std(raw_data, axis = 0)\n",
    "    return (raw_data - mu) / sd\n"
   ]
  },
  {
   "cell_type": "markdown",
   "metadata": {
    "ein.tags": [
     "worksheet-0"
    ],
    "slideshow": {
     "slide_type": "-"
    }
   },
   "source": [
    "### 2.3 Implement gradient descent with an arbitrary number of independent variables\n",
    "\n",
    "Now that you have a simple version of gradient descent working, create a version of gradient descent that can take more than one independent variable.  Assume all independent variables will be continuous.  Test your algorithm using CRIM and RM as independent variables. Standardize these variables before before inputting them to the gradient descent algorithm. \n",
    "\n",
    "As before,  report and interpret your estimated coefficients, the number of iterations before convergence, and the total running time of your algorithm. Experiment with the following values of R: 0.1, 0.01, and 0.001.\n",
    "\n",
    "* *Hint 1: Be careful to implement this efficiently, otherwise it might take a long time for your code to run. Commands like `np.dot` can be a good friend to you on this problem*"
   ]
  },
  {
   "cell_type": "code",
   "execution_count": 240,
   "metadata": {
    "autoscroll": "json-false",
    "ein.tags": [
     "worksheet-0"
    ],
    "slideshow": {
     "slide_type": "-"
    }
   },
   "outputs": [
    {
     "name": "stdout",
     "output_type": "stream",
     "text": [
      "(506, 2)\n",
      "(506,)\n",
      "\n",
      "time: 0.0\n",
      "Convergence True\n",
      "No of iterations 1\n",
      "slope: -16.8455448551 -0.212057249035\n",
      "intercept: 24.5142989607\n",
      "after standardization \n",
      "\n",
      "\n",
      "time: 0.0\n",
      "Convergence True\n",
      "No of iterations 62\n",
      "slope: 0.161645608823 0.64297561521\n",
      "intercept: 4.91482129478e-16\n",
      "\n",
      "time: 0.0\n",
      "Convergence True\n",
      "No of iterations 651\n",
      "slope: 0.161600797004 0.642988051244\n",
      "intercept: 4.91482129478e-16\n",
      "[-0.05802172 -0.2264176 ]\n",
      "\n",
      "time: 0.0\n",
      "Convergence False\n",
      "No of iterations 999\n",
      "slope: 0.294110021573 0.415209079088\n",
      "intercept: 5.05524476035e-16\n",
      "[-0.05798529 -0.22630118]\n",
      "\n",
      "time: 0.0\n",
      "Convergence False\n",
      "No of iterations 10000\n",
      "slope: 0.294040266868 0.415121674146\n",
      "intercept: 4.91482129478e-16\n"
     ]
    }
   ],
   "source": [
    "\"\"\"\n",
    "Function\n",
    "--------\n",
    "multiple_ols\n",
    "    Gradient Decent to minimize OLS. Used to find co-efficients of bivariate OLS Linear regression\n",
    "\n",
    "Parameters\n",
    "----------\n",
    "xvalue_matrix, yvalues : narray\n",
    "    xvalue_matrix: independent variable\n",
    "    yvalues: dependent variable\n",
    "    \n",
    "R: float\n",
    "    Learning rate\n",
    "    \n",
    "MaxIterations: Int\n",
    "    maximum number of iterations\n",
    "\n",
    "Returns\n",
    "-------\n",
    "beta: array[float], coefficients\n",
    "\"\"\"\n",
    "\n",
    "\n",
    "def multivariate_ols(X,Y,R,MaxIterations):\n",
    "    N=len(X)\n",
    "    it=0\n",
    "    cost=0\n",
    "    convergence=False\n",
    "    tolerance=0.02\n",
    "   \n",
    "    coef=np.zeros(X.shape[1]+1)\n",
    "    beta=np.zeros([X.shape[1]])\n",
    "    gradient=0\n",
    "    \n",
    "    for i in range(MaxIterations):\n",
    "        start_time = time.time()\n",
    "        h=np.dot(X,beta)\n",
    "        l=h-Y\n",
    "        g1=gradient #gradient from previous iteration\n",
    "        #cost=np.asscalar(np.matmul(l.T, l))\n",
    "        gradient=np.dot(l.T,X)/N\n",
    "        g2=gradient\n",
    "        beta=beta-R*gradient\n",
    "        coef[0]=np.average(l)\n",
    "        coef[1]=np.average(beta[0])\n",
    "        coef[2]=np.average(beta[1])\n",
    "        #if ((g2-g1)==0):\n",
    "         #   convergence=True\n",
    "        if(np.average(g2)>(-9.82e-05)):\n",
    "            total_t = float(round(time.time() - start_time,2))\n",
    "            print(\"\\ntime:\",total_t)\n",
    "            convergence=True\n",
    "            return beta,l,i,convergence,coef\n",
    "    print (g2)\n",
    "    coef[0]=np.average(l)\n",
    "    coef[1]=np.average(beta)\n",
    "    total_t = float(round(time.time() - start_time,2))\n",
    "    print(\"\\ntime:\",total_t)\n",
    "    return beta,l,i,convergence,coef\n",
    "\n",
    "\n",
    "\n",
    "\n",
    "X=bdata_m[:,[1,5]]\n",
    "Y=bdata_m[:,13]\n",
    "print(X.shape)\n",
    "print(Y.shape)\n",
    "#Without standardiation\n",
    "slope,intercept,iterations,convergence,coef=multivariate_ols(X,Y,0.01,1000)\n",
    "print (\"Convergence\",convergence)\n",
    "print (\"No of iterations\",iterations)\n",
    "print (\"slope:\",coef[1],coef[2])\n",
    "print (\"intercept:\",coef[0])\n",
    "#after standardizing\n",
    "print(\"after standardization \\n\")\n",
    "X=bdata_m[:,[1,5]]\n",
    "Y=bdata_m[:,13]\n",
    "stand_x=(standardize(X))\n",
    "stand_y=(standardize(Y))\n",
    "slope,intercept,iterations,convergence,coef=multivariate_ols(stand_x,stand_y,0.1,1000)\n",
    "print (\"Convergence\",convergence)\n",
    "print (\"No of iterations\",iterations)\n",
    "print (\"slope:\",coef[1],coef[2])\n",
    "print (\"intercept:\",coef[0])\n",
    "\n",
    "slope,intercept,iterations,convergence,coef=multivariate_ols(stand_x,stand_y,0.01,1000)\n",
    "print (\"Convergence\",convergence)\n",
    "print (\"No of iterations\",iterations)\n",
    "print (\"slope:\",coef[1],coef[2])\n",
    "print (\"intercept:\",coef[0])\n",
    "\n",
    "slope,intercept,iterations,convergence,coef=multivariate_ols(stand_x,stand_y,0.001,1000)\n",
    "print (\"Convergence\",convergence)\n",
    "print (\"No of iterations\",iterations)\n",
    "print (\"slope:\",coef[1],coef[2])\n",
    "print (\"intercept:\",coef[0])\n",
    "\n",
    "slope,intercept,iterations,convergence,coef=multivariate_ols(stand_x,stand_y,0.0001,10001)\n",
    "print (\"Convergence\",convergence)\n",
    "print (\"No of iterations\",iterations)\n",
    "print (\"slope:\",coef[1],coef[2])\n",
    "print (\"intercept:\",coef[0])\n",
    "#print (\"result1:\", multivariate_ols(stand_x,stand_y,0.1,101))\n",
    "#print (\"result2:\", multivariate_ols(stand_x,stand_y,0.01,1000))\n",
    "#print (\"result3:\", multivariate_ols(stand_x,stand_y,0.001,100))\n",
    "#print (\"result4:\", multivariate_ols(stand_x,stand_y,0.0001,10))"
   ]
  },
  {
   "cell_type": "markdown",
   "metadata": {},
   "source": [
    "After standardization of the features, convergence is the fastest in terms of number of iterations for R=0.1. It converges in 62 iterations.Running time is very minimal for the iterations.For R=0.001 and 0.001, convergence does not happen with in 10000 iterations. "
   ]
  },
  {
   "cell_type": "markdown",
   "metadata": {
    "ein.tags": [
     "worksheet-0"
    ],
    "slideshow": {
     "slide_type": "-"
    }
   },
   "source": [
    "### 2.4 Compare standardized vs. non-standardized results\n",
    "\n",
    "Repeat the analysis from 2.3, but this time do not standardize your variables - i.e., use the original data. Use the same three values of R (0.1, 0.01, and 0.001). What do you notice about the running time and convergence properties of your algorithm?"
   ]
  },
  {
   "cell_type": "code",
   "execution_count": 242,
   "metadata": {
    "autoscroll": "json-false",
    "ein.tags": [
     "worksheet-0"
    ],
    "slideshow": {
     "slide_type": "-"
    }
   },
   "outputs": [
    {
     "name": "stdout",
     "output_type": "stream",
     "text": [
      "\n",
      "time: 0.0\n",
      "Convergence True\n",
      "No of iterations 1\n",
      "slope: -2284.3450784 -284.176751939\n",
      "intercept: 447.938246524\n",
      "\n",
      "time: 0.0\n",
      "Convergence True\n",
      "No of iterations 1\n",
      "slope: -16.8455448551 -0.212057249035\n",
      "intercept: 24.5142989607\n",
      "\n",
      "time: 0.0\n",
      "Convergence True\n",
      "No of iterations 417\n",
      "slope: 0.102112070748 3.45795580248\n",
      "intercept: 0.359544973583\n",
      "[ 0.57080094 -4.78264313]\n",
      "\n",
      "time: 0.0\n",
      "Convergence False\n",
      "No of iterations 999\n",
      "slope: 1.71199968564 3.3034469066\n",
      "intercept: -0.404293005716\n"
     ]
    }
   ],
   "source": [
    "#before standardizing\n",
    "X=bdata_m[:,[1,5]]\n",
    "Y=bdata_m[:,13]\n",
    "\n",
    "slope,intercept,iterations,convergence,coef=multivariate_ols(X,Y,0.1,1000)\n",
    "print (\"Convergence\",convergence)\n",
    "print (\"No of iterations\",iterations)\n",
    "print (\"slope:\",coef[1],coef[2])\n",
    "print (\"intercept:\",coef[0])\n",
    "\n",
    "slope,intercept,iterations,convergence,coef=multivariate_ols(X,Y,0.01,1000)\n",
    "print (\"Convergence\",convergence)\n",
    "print (\"No of iterations\",iterations)\n",
    "print (\"slope:\",coef[1],coef[2])\n",
    "print (\"intercept:\",coef[0])\n",
    "\n",
    "slope,intercept,iterations,convergence,coef=multivariate_ols(X,Y,0.001,1000)\n",
    "print (\"Convergence\",convergence)\n",
    "print (\"No of iterations\",iterations)\n",
    "print (\"slope:\",coef[1],coef[2])\n",
    "print (\"intercept:\",coef[0])\n",
    "\n",
    "slope,intercept,iterations,convergence,coef=multivariate_ols(X,Y,0.0001,1000)\n",
    "print (\"Convergence\",convergence)\n",
    "print (\"No of iterations\",iterations)\n",
    "print (\"slope:\",coef[1],coef[2])\n",
    "print (\"intercept:\",coef[0])"
   ]
  },
  {
   "cell_type": "markdown",
   "metadata": {},
   "source": [
    "Running time is still minimal, convergence is w=faster when the features are not standardized. Same as before, for R=0.001, covergence does not occur"
   ]
  },
  {
   "cell_type": "markdown",
   "metadata": {
    "ein.tags": [
     "worksheet-0"
    ],
    "slideshow": {
     "slide_type": "-"
    }
   },
   "source": [
    "## 3. Prediction\n",
    "\n",
    "Let's use our fitted model to make predictions about housing prices. Since the focus is now on prediction rather than the interpretation of the coefficients, first standardize your features before proceeding.\n",
    "\n",
    "### 3.1 Cross-Validation\n",
    "\n",
    "Unless you were careful above, you probably overfit your data again. Let's fix that in one of two ways. If you're feeling confident, use k-fold cross-validation to re-fit the multiple regression from 2.3 above, and report your estimated coefficients (there should be three, corresponding to the intercept and the two coefficients for CRIM and RM). Or if you want to do the quick and dirty version, randomly divide your data into a training set (66%) and testing set (34%) and use the training set to re-fit the regression from 2.3 above. "
   ]
  },
  {
   "cell_type": "code",
   "execution_count": 149,
   "metadata": {
    "autoscroll": "json-false",
    "ein.tags": [
     "worksheet-0"
    ],
    "slideshow": {
     "slide_type": "-"
    }
   },
   "outputs": [
    {
     "name": "stdout",
     "output_type": "stream",
     "text": [
      "Convergence True\n",
      "No of iterations 61\n",
      "slope: 0.160593970085 0.617551772876\n",
      "intercept: -2.85390663387e-16\n"
     ]
    }
   ],
   "source": [
    "\n",
    "\n",
    "X_train,X_test=sklearn.model_selection.train_test_split(bdata_m,test_size=0.34,train_size=0.66)\n",
    "X=X_train[:,[1,5]]\n",
    "Y=X_train[:,13]\n",
    "stand_x=(standardize(X))\n",
    "stand_y=(standardize(Y))\n",
    "#after standardizing\n",
    "\n",
    "#re-fitting using training set\n",
    "slope,intercept,iterations,convergence,coef=multivariate_ols(stand_x,stand_y,0.1,101)\n",
    "print (\"Convergence\",convergence)\n",
    "print (\"No of iterations\",iterations)\n",
    "print (\"slope:\",coef[1],coef[2])\n",
    "print (\"intercept:\",coef[0])\n"
   ]
  },
  {
   "cell_type": "markdown",
   "metadata": {
    "ein.tags": [
     "worksheet-0"
    ],
    "slideshow": {
     "slide_type": "-"
    }
   },
   "source": [
    "### 3.2 Predicted values and RMSE\n",
    "\n",
    "Let's figure out how accurate this predictive model turned out to be. Compute the RMSE on your test cases, i.e. take the model parameters that you found above and compare the actual to the predicted values for just the test instances. If you did this the k-fold way above, this will be the average RMSE across the k test sets. If you did this the quick and dirty way above, this will just be the RMSE on your single test set.\n",
    "\n",
    "What is your test RMSE?  How does it compare to the performance of your nearest neighbor algorithm from the last problem set?  How does it compare to RMSE from a simpler model where number of rooms is the only explanatory variable?"
   ]
  },
  {
   "cell_type": "code",
   "execution_count": 243,
   "metadata": {
    "autoscroll": "json-false",
    "ein.tags": [
     "worksheet-0"
    ],
    "slideshow": {
     "slide_type": "-"
    }
   },
   "outputs": [
    {
     "name": "stdout",
     "output_type": "stream",
     "text": [
      "RMSE on test data after re-fitting with trainind data [ 3.78325406]\n"
     ]
    }
   ],
   "source": [
    "def compute_rmse(predicts,yvals):\n",
    "    i=0 #i used to move array index\n",
    "    result=np.zeros((predicts.size,1))\n",
    "    for n in predicts:\n",
    "        result[i]=predicts[i]-yvals[i] #computing difference between predicted and observed values\n",
    "        result[i]=result[i]*result[i] #computing square root of each difference\n",
    "        i=i+1 \n",
    "    rmse=sum(result)/result.size\n",
    "    rmse=np.sqrt(rmse) #obtaining root mean\n",
    "    return rmse\n",
    "\n",
    "predicts=np.zeros(len(X_test))\n",
    "e=coef[0]\n",
    "b1=coef[1]\n",
    "b2=coef[2]\n",
    "X_test=np.matrix(X_test)\n",
    "var1=np.matrix(X_test[:,1])\n",
    "var2=np.matrix(X_test[:,5])\n",
    "yvals=np.matrix(X_test[:,13])\n",
    "for i in range(len(yvals)):\n",
    "    predicts[i]=e+b1*var1[i]+b2*var2[i]\n",
    "    i=i+1\n",
    "#print(predicts)\n",
    "#print(yvals)\n",
    "print(\"RMSE on test data after re-fitting with trainind data\",compute_rmse(predicts,yvals))"
   ]
  },
  {
   "cell_type": "markdown",
   "metadata": {},
   "source": [
    "RMSE is the lowest when regression is run using standardized training data. It is lower than what I obtained from nearest neighbor and simple linear regression"
   ]
  },
  {
   "cell_type": "markdown",
   "metadata": {
    "ein.tags": [
     "worksheet-0"
    ],
    "slideshow": {
     "slide_type": "-"
    }
   },
   "source": [
    "### Extra Credit 1: Logistic Regression\n",
    "\n",
    "For extra credit, implement logistic regression using gradient descent. Create a new variable (EXPENSIVE) to indicate whether the median housing price is more than $40,000. Use your model  a logistic regression of EXPENSIVE on CHAS and RM. Report your results."
   ]
  },
  {
   "cell_type": "code",
   "execution_count": null,
   "metadata": {
    "autoscroll": "json-false",
    "collapsed": true,
    "ein.tags": [
     "worksheet-0"
    ],
    "slideshow": {
     "slide_type": "-"
    }
   },
   "outputs": [],
   "source": [
    "\n"
   ]
  },
  {
   "cell_type": "markdown",
   "metadata": {
    "ein.tags": [
     "worksheet-0"
    ],
    "slideshow": {
     "slide_type": "-"
    }
   },
   "source": [
    "## 4 Regularization \n",
    "\n",
    "### 4.1 Get prepped\n",
    "\n",
    "Step 1: Create new interaction variables between each possible pair of the F_s features.  Note: as all the original features are numeric, you can just multiply.  If you originally had *K* features, you should now have K+(K*(K+1))/2 features. Standardize all of your features.\n",
    "\n",
    "Step 2: For simplicity, generate a single training and testing set.  Randomly sample 66% of your data and call this the training set, and set aside the remaining 34% as your test set."
   ]
  },
  {
   "cell_type": "code",
   "execution_count": 244,
   "metadata": {
    "autoscroll": "json-false",
    "ein.tags": [
     "worksheet-0"
    ],
    "slideshow": {
     "slide_type": "-"
    }
   },
   "outputs": [
    {
     "name": "stdout",
     "output_type": "stream",
     "text": [
      "(333, 120)\n"
     ]
    }
   ],
   "source": [
    "# create interaction terms \n",
    "#step 1\n",
    "from sklearn.preprocessing import PolynomialFeatures\n",
    "from sklearn.preprocessing import StandardScaler as SS\n",
    "from sklearn.feature_extraction import DictVectorizer\n",
    "bdata_m_t = PolynomialFeatures(2, interaction_only=False, include_bias=True).fit_transform(bdata_m)\n",
    "\n",
    "bdata_df_stand=standardize(bdata_m_t)\n",
    "\n",
    "#Step2\n",
    "X_train,X_test=sklearn.model_selection.train_test_split(bdata_df_stand,test_size=0.34,train_size=0.66)\n",
    "print (X_train.shape)"
   ]
  },
  {
   "cell_type": "markdown",
   "metadata": {
    "ein.tags": [
     "worksheet-0"
    ],
    "slideshow": {
     "slide_type": "-"
    }
   },
   "source": [
    "### 4.2 Let's overfit!\n",
    "Now, using your version of multiple regression from 2.3, let's overfit the training data. Using your training set, regress housing price on as many of those K+(K*(K+1))/2 features as you can.  If you get too greedy, it's possible this will take a long time to compute, so start with 5-10 features, and if you have the time, add more features.\n",
    "\n",
    "Report the RMSE when you apply your model to your training set and to your testing set. How do these numbers compare to each other, and to the RMSE from 3.2 and nearest neighbors?"
   ]
  },
  {
   "cell_type": "code",
   "execution_count": 181,
   "metadata": {
    "autoscroll": "json-false",
    "ein.tags": [
     "worksheet-0"
    ],
    "slideshow": {
     "slide_type": "-"
    }
   },
   "outputs": [
    {
     "name": "stdout",
     "output_type": "stream",
     "text": [
      "[-0.42290299  0.3834715  -0.60022524 -0.01572626 -0.57276928  0.57961102\n",
      " -0.55947137  0.44764962 -0.45911029 -0.52943417 -0.33098688  0.35146557\n",
      " -0.90585652  0.69178512 -0.20962857  0.24115208 -0.42506414  0.00406664\n",
      " -0.43400211 -0.38985924 -0.42548301 -0.43104755 -0.4129095  -0.41846084\n",
      " -0.42111236]\n",
      "Convergence False\n",
      "No of iterations 0\n",
      "slope: 0.00210593950869 -0.00383471502117\n",
      "intercept: 0.0446746304507\n",
      "RMSE: [ 1.08545621]\n"
     ]
    }
   ],
   "source": [
    "\n",
    "X=X_train[:,[1,2,3,4,5,6,7,8,9,10,11,12,13,14,15,16,17,18,19,20,21,22,23,24,25]]\n",
    "Y=X_train[:,13]\n",
    "slope,intercept,iterations,convergence,coef=multivariate_ols(X,Y,0.01,1)\n",
    "print (\"Convergence\",convergence)\n",
    "print (\"No of iterations\",iterations)\n",
    "print (\"slope:\",coef[1],coef[2])\n",
    "print (\"intercept:\",coef[0])\n",
    "\n",
    "predicts=np.zeros(len(X_test))\n",
    "e=coef[0]\n",
    "b1=coef[1]\n",
    "b2=coef[2]\n",
    "X_test=np.matrix(X_test)\n",
    "var1=np.matrix(X_test[:,1])\n",
    "var2=np.matrix(X_test[:,5])\n",
    "yvals=np.matrix(X_test[:,13])\n",
    "for i in range(len(yvals)):\n",
    "    predicts[i]=e+b1*var1[i]+b2*var2[i]\n",
    "    i=i+1\n",
    "#print(predicts)\n",
    "#print(yvals)\n",
    "print(\"RMSE:\",compute_rmse(predicts,yvals))\n"
   ]
  },
  {
   "cell_type": "markdown",
   "metadata": {},
   "source": [
    "RMSE is an all time low when standardized feature interactions training data is used to train the regression. It is lower than the value obtained in 3.2 and from nearest neighbor. The performace on the test data seems to be good."
   ]
  },
  {
   "cell_type": "markdown",
   "metadata": {
    "ein.tags": [
     "worksheet-0"
    ],
    "slideshow": {
     "slide_type": "-"
    }
   },
   "source": [
    "### 4.3 Ridge regularization\n",
    "a) Incorporate L2 (Ridge) regularization into your multiple_ols regression. Write a new version of your gradient descent algorithm that includes a regularization term \"lambda\" to penalize excessive complexity. \n",
    "\n",
    "b) Use your regularized regression to re-fit the model from 4.2 above on your training data. Try this for several different values of lambda, and report your RMSE for each lambda separately for your training and testing data. How do these numbers compare to each other, to the RMSE from 4.2,  to the RMSE from 2.3, and to the RMSE from nearest neighbors?\n",
    "\n",
    "c) Go brag to your friends about how you just implemented ridge-regularized multiple regression using gradient descent optimization, from scratch (if you still have any friends left...)"
   ]
  },
  {
   "cell_type": "code",
   "execution_count": 189,
   "metadata": {
    "autoscroll": "json-false",
    "ein.tags": [
     "worksheet-0"
    ],
    "slideshow": {
     "slide_type": "-"
    }
   },
   "outputs": [
    {
     "name": "stdout",
     "output_type": "stream",
     "text": [
      "Convergence True\n",
      "No of iterations 19\n",
      "slope: 0.0280264996822 -0.0423751909042\n",
      "intercept: 0.024278248865\n",
      "RMSE: [ 1.09719112]\n"
     ]
    }
   ],
   "source": [
    "#part a:\n",
    "def multivariate_ridge_ols(X,Y,R,MaxIterations,lamb):\n",
    "    N=len(X)\n",
    "    it=0\n",
    "    cost=0\n",
    "    convergence=False\n",
    "    tolerance=0.02\n",
    "   \n",
    "    coef=np.zeros(X.shape[1]+1)\n",
    "    beta=np.zeros([X.shape[1]])\n",
    "    gradient=0\n",
    "    \n",
    "    for i in range(MaxIterations):\n",
    "        h=np.dot(X,beta)\n",
    "        l=h-Y\n",
    "        g1=gradient #gradient from previous iteration\n",
    "        #cost=np.asscalar(np.matmul(l.T, l))\n",
    "        gradient=np.dot(l.T,X)/N-2*np.dot(lamb,beta)\n",
    "        g2=gradient\n",
    "        beta=beta-R*gradient\n",
    "        coef[0]=np.average(l)\n",
    "        coef[1]=np.average(beta[0])\n",
    "        coef[2]=np.average(beta[1])\n",
    "        #if ((g2-g1)==0):\n",
    "         #   convergence=True\n",
    "        if(np.average(g2)>(-9.82e-05)):\n",
    "            convergence=True\n",
    "            return beta,l,i,convergence,coef\n",
    "    print (g2)\n",
    "    coef[0]=np.average(l)\n",
    "    coef[1]=np.average(beta)\n",
    "    return beta,l,i,convergence,coef\n",
    "\n",
    "#partb\n",
    "\n",
    "X=X_train[:,[1,2,3,4,5,6,7,8,9,10,11,12,13,14,15,16,17,18,19,20,21,22,23,24,25]]\n",
    "Y=X_train[:,13]\n",
    "slope,intercept,iterations,convergence,coef=multivariate_ridge_ols(X,Y,0.01,1000,1)\n",
    "print (\"Convergence\",convergence)\n",
    "print (\"No of iterations\",iterations)\n",
    "print (\"slope:\",coef[1],coef[2])\n",
    "print (\"intercept:\",coef[0])\n",
    "\n",
    "# steps to call RMSE function\n",
    "predicts=np.zeros(len(X_test))\n",
    "e=coef[0]\n",
    "b1=coef[1]\n",
    "b2=coef[2]\n",
    "X_test=np.matrix(X_test)\n",
    "var1=np.matrix(X_test[:,1])\n",
    "var2=np.matrix(X_test[:,5])\n",
    "yvals=np.matrix(X_test[:,13])\n",
    "for i in range(len(yvals)):\n",
    "    predicts[i]=e+b1*var1[i]+b2*var2[i]\n",
    "    i=i+1\n",
    "#print(predicts)\n",
    "#print(yvals)\n",
    "print(\"RMSE:\",compute_rmse(predicts,yvals))"
   ]
  },
  {
   "cell_type": "markdown",
   "metadata": {},
   "source": [
    "After performing ridge regularization, the RMSE for lambda equal to 1 is same as the one obtained in 4.2. It is lower than the value obtained in 2.3 and 3.2 and KNN in the previous excercise.\n",
    "RMSE from ridge : 1.09\n",
    "RMSE from overfitting features and interactions : 1.08\n",
    "RMSE from cross validation : 3.7\n",
    "RMSE from KNN :8.9"
   ]
  },
  {
   "cell_type": "markdown",
   "metadata": {
    "ein.tags": [
     "worksheet-0"
    ],
    "slideshow": {
     "slide_type": "-"
    }
   },
   "source": [
    "### Extra Credit 2: Cross-validate lambda\n",
    "\n",
    "Use k-fold cross-validation to select the optimal value of lambda. Report the average RMSE across all training sets, and the average RMSE across all testing sets. How do these numbers compare to each other, to the RMSE from your previous efforts?  Finally, create a plot that shows RMSE as a function of lambda."
   ]
  },
  {
   "cell_type": "code",
   "execution_count": null,
   "metadata": {
    "autoscroll": "json-false",
    "collapsed": true,
    "ein.tags": [
     "worksheet-0"
    ],
    "slideshow": {
     "slide_type": "-"
    }
   },
   "outputs": [],
   "source": [
    "\n"
   ]
  },
  {
   "cell_type": "markdown",
   "metadata": {
    "ein.tags": [
     "worksheet-0"
    ],
    "slideshow": {
     "slide_type": "-"
    }
   },
   "source": [
    "### (Showoff) Extra Credit 3: Lambda and coefficients\n",
    "\n",
    "If you're feeling extra-special, create a parameter plot that shows how the different coefficient estimates change as a function of lambda. To make this graph intelligible, only include the *K* original F_s features in this plot"
   ]
  },
  {
   "cell_type": "code",
   "execution_count": null,
   "metadata": {
    "autoscroll": "json-false",
    "collapsed": true,
    "ein.tags": [
     "worksheet-0"
    ],
    "slideshow": {
     "slide_type": "-"
    }
   },
   "outputs": [],
   "source": [
    "\n",
    "    "
   ]
  }
 ],
 "metadata": {
  "anaconda-cloud": {},
  "kernelspec": {
   "display_name": "Python [conda root]",
   "language": "python",
   "name": "conda-root-py"
  },
  "language_info": {
   "codemirror_mode": {
    "name": "ipython",
    "version": 3
   },
   "file_extension": ".py",
   "mimetype": "text/x-python",
   "name": "python",
   "nbconvert_exporter": "python",
   "pygments_lexer": "ipython3",
   "version": "3.5.3"
  },
  "name": "INFX574-PS4-solutions.ipynb"
 },
 "nbformat": 4,
 "nbformat_minor": 1
}
